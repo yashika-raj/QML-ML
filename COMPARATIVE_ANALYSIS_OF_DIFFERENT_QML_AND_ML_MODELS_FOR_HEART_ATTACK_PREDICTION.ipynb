{
  "cells": [
    {
      "cell_type": "markdown",
      "id": "95c3b21c",
      "metadata": {
        "id": "95c3b21c"
      },
      "source": [
        "# Modules:-\n",
        "#    1. Feature Selection-RFE,PCA\n",
        "#    2. QNN - OPTIMIZER(COBYLA,L_BFGS_B),K-CROSS FOLD VALIDATION\n",
        "#    3. QSVC\n",
        "#    4. BAGGING-SVC\n",
        "#    5. CLASSICAL MODELS\n",
        "#    6. MLP-WITH AND WITHOUT HIDDEN LAYERS\n",
        "#    7. VQC-PQC(ANSTANZ-REALAMPLITUDES,EFFICIENTSUV2)\n",
        "#    8. COMPARISON OF ALL THE MODELS\n",
        "#DATASET USED:-\n",
        "#health_indicators_BRFSS2015"
      ]
    },
    {
      "cell_type": "code",
      "execution_count": null,
      "id": "a786d849",
      "metadata": {
        "id": "a786d849"
      },
      "outputs": [],
      "source": [
        "from sklearn.model_selection import train_test_split\n",
        "from sklearn.tree import DecisionTreeClassifier\n",
        "from sklearn.model_selection import cross_val_score\n",
        "from sklearn.metrics import accuracy_score,classification_report\n",
        "from sklearn.ensemble import BaggingClassifier\n",
        "from sklearn.ensemble import RandomForestClassifier,GradientBoostingClassifier,AdaBoostClassifier,VotingClassifier\n",
        "from sklearn.neighbors import KNeighborsClassifier\n",
        "import xgboost  as  xgb #from xgboost import XGBClassifier\n",
        "from numpy import hstack\n",
        "from sklearn.linear_model import LogisticRegression\n",
        "from sklearn.neural_network import MLPClassifier\n",
        "from collections import Counter"
      ]
    },
    {
      "cell_type": "code",
      "execution_count": null,
      "id": "fa576b6b",
      "metadata": {
        "id": "fa576b6b"
      },
      "outputs": [],
      "source": [
        "from qiskit_algorithms.utils import algorithm_globals\n",
        "#using Estimator\n",
        "from qiskit.circuit import Parameter\n",
        "from qiskit import QuantumCircuit\n",
        "from qiskit_machine_learning.neural_networks import EstimatorQNN\n",
        "import pandas as pd\n",
        "from sklearn.decomposition import PCA\n",
        "from sklearn.model_selection import train_test_split\n",
        "from sklearn.preprocessing import StandardScaler, MinMaxScaler\n",
        "from sklearn import metrics\n",
        "from sklearn.metrics import confusion_matrix,log_loss,classification_report\n",
        "\n",
        "from sklearn.metrics import roc_curve\n",
        "from sklearn.metrics import accuracy_score\n",
        "from sklearn.model_selection import KFold\n",
        "from sklearn.pipeline import make_pipeline\n",
        "from sklearn.ensemble import BaggingClassifier\n",
        "from sklearn.model_selection import cross_val_score\n",
        "\n",
        "#qiskit\n",
        "from qiskit import *\n",
        "from qiskit.circuit import Parameter\n",
        "from qiskit.circuit.library import ZZFeatureMap, ZFeatureMap, TwoLocal, RealAmplitudes\n",
        "from IPython.display import clear_output\n",
        "import matplotlib as plt\n",
        "from qiskit_machine_learning.algorithms import QSVC, NeuralNetworkClassifier,VQC\n",
        "from qiskit_algorithms.optimizers import SPSA, L_BFGS_B, COBYLA\n",
        "from matplotlib import pyplot as plt\n",
        "import seaborn as sns\n",
        "import numpy as np\n",
        "from IPython.display import clear_output\n",
        "from sklearn.pipeline import make_pipeline\n",
        "from sklearn.ensemble import BaggingClassifier\n",
        "from qiskit_algorithms.state_fidelities import ComputeUncompute\n",
        "from qiskit_machine_learning.kernels import FidelityQuantumKernel\n",
        "from qiskit.primitives import Sampler\n",
        "import time"
      ]
    },
    {
      "cell_type": "code",
      "execution_count": null,
      "id": "fb0347e1",
      "metadata": {
        "id": "fb0347e1"
      },
      "outputs": [],
      "source": [
        "data=pd.read_csv('heart_disease_health_indicators_BRFSS2015.csv')"
      ]
    },
    {
      "cell_type": "code",
      "execution_count": null,
      "id": "169daa31",
      "metadata": {
        "id": "169daa31",
        "outputId": "2e1d7764-8c0d-4491-d579-01ae8724149e"
      },
      "outputs": [
        {
          "data": {
            "text/plain": [
              "(253680, 22)"
            ]
          },
          "execution_count": 107,
          "metadata": {},
          "output_type": "execute_result"
        }
      ],
      "source": [
        "data.shape"
      ]
    },
    {
      "cell_type": "code",
      "execution_count": null,
      "id": "3530b87c",
      "metadata": {
        "id": "3530b87c",
        "outputId": "ef7c66fd-c52f-4c58-adfd-d72365a907ea"
      },
      "outputs": [
        {
          "data": {
            "text/html": [
              "<div>\n",
              "<style scoped>\n",
              "    .dataframe tbody tr th:only-of-type {\n",
              "        vertical-align: middle;\n",
              "    }\n",
              "\n",
              "    .dataframe tbody tr th {\n",
              "        vertical-align: top;\n",
              "    }\n",
              "\n",
              "    .dataframe thead th {\n",
              "        text-align: right;\n",
              "    }\n",
              "</style>\n",
              "<table border=\"1\" class=\"dataframe\">\n",
              "  <thead>\n",
              "    <tr style=\"text-align: right;\">\n",
              "      <th></th>\n",
              "      <th>HeartDiseaseorAttack</th>\n",
              "      <th>HighBP</th>\n",
              "      <th>HighChol</th>\n",
              "      <th>CholCheck</th>\n",
              "      <th>BMI</th>\n",
              "      <th>Smoker</th>\n",
              "      <th>Stroke</th>\n",
              "      <th>Diabetes</th>\n",
              "      <th>PhysActivity</th>\n",
              "      <th>Fruits</th>\n",
              "      <th>...</th>\n",
              "      <th>AnyHealthcare</th>\n",
              "      <th>NoDocbcCost</th>\n",
              "      <th>GenHlth</th>\n",
              "      <th>MentHlth</th>\n",
              "      <th>PhysHlth</th>\n",
              "      <th>DiffWalk</th>\n",
              "      <th>Sex</th>\n",
              "      <th>Age</th>\n",
              "      <th>Education</th>\n",
              "      <th>Income</th>\n",
              "    </tr>\n",
              "  </thead>\n",
              "  <tbody>\n",
              "    <tr>\n",
              "      <th>count</th>\n",
              "      <td>253680.000000</td>\n",
              "      <td>253680.000000</td>\n",
              "      <td>253680.000000</td>\n",
              "      <td>253680.000000</td>\n",
              "      <td>253680.000000</td>\n",
              "      <td>253680.000000</td>\n",
              "      <td>253680.000000</td>\n",
              "      <td>253680.000000</td>\n",
              "      <td>253680.000000</td>\n",
              "      <td>253680.000000</td>\n",
              "      <td>...</td>\n",
              "      <td>253680.000000</td>\n",
              "      <td>253680.000000</td>\n",
              "      <td>253680.000000</td>\n",
              "      <td>253680.000000</td>\n",
              "      <td>253680.000000</td>\n",
              "      <td>253680.000000</td>\n",
              "      <td>253680.000000</td>\n",
              "      <td>253680.000000</td>\n",
              "      <td>253680.000000</td>\n",
              "      <td>253680.000000</td>\n",
              "    </tr>\n",
              "    <tr>\n",
              "      <th>mean</th>\n",
              "      <td>0.094186</td>\n",
              "      <td>0.429001</td>\n",
              "      <td>0.424121</td>\n",
              "      <td>0.962670</td>\n",
              "      <td>28.382364</td>\n",
              "      <td>0.443169</td>\n",
              "      <td>0.040571</td>\n",
              "      <td>0.296921</td>\n",
              "      <td>0.756544</td>\n",
              "      <td>0.634256</td>\n",
              "      <td>...</td>\n",
              "      <td>0.951053</td>\n",
              "      <td>0.084177</td>\n",
              "      <td>2.511392</td>\n",
              "      <td>3.184772</td>\n",
              "      <td>4.242081</td>\n",
              "      <td>0.168224</td>\n",
              "      <td>0.440342</td>\n",
              "      <td>8.032119</td>\n",
              "      <td>5.050434</td>\n",
              "      <td>6.053875</td>\n",
              "    </tr>\n",
              "    <tr>\n",
              "      <th>std</th>\n",
              "      <td>0.292087</td>\n",
              "      <td>0.494934</td>\n",
              "      <td>0.494210</td>\n",
              "      <td>0.189571</td>\n",
              "      <td>6.608694</td>\n",
              "      <td>0.496761</td>\n",
              "      <td>0.197294</td>\n",
              "      <td>0.698160</td>\n",
              "      <td>0.429169</td>\n",
              "      <td>0.481639</td>\n",
              "      <td>...</td>\n",
              "      <td>0.215759</td>\n",
              "      <td>0.277654</td>\n",
              "      <td>1.068477</td>\n",
              "      <td>7.412847</td>\n",
              "      <td>8.717951</td>\n",
              "      <td>0.374066</td>\n",
              "      <td>0.496429</td>\n",
              "      <td>3.054220</td>\n",
              "      <td>0.985774</td>\n",
              "      <td>2.071148</td>\n",
              "    </tr>\n",
              "    <tr>\n",
              "      <th>min</th>\n",
              "      <td>0.000000</td>\n",
              "      <td>0.000000</td>\n",
              "      <td>0.000000</td>\n",
              "      <td>0.000000</td>\n",
              "      <td>12.000000</td>\n",
              "      <td>0.000000</td>\n",
              "      <td>0.000000</td>\n",
              "      <td>0.000000</td>\n",
              "      <td>0.000000</td>\n",
              "      <td>0.000000</td>\n",
              "      <td>...</td>\n",
              "      <td>0.000000</td>\n",
              "      <td>0.000000</td>\n",
              "      <td>1.000000</td>\n",
              "      <td>0.000000</td>\n",
              "      <td>0.000000</td>\n",
              "      <td>0.000000</td>\n",
              "      <td>0.000000</td>\n",
              "      <td>1.000000</td>\n",
              "      <td>1.000000</td>\n",
              "      <td>1.000000</td>\n",
              "    </tr>\n",
              "    <tr>\n",
              "      <th>25%</th>\n",
              "      <td>0.000000</td>\n",
              "      <td>0.000000</td>\n",
              "      <td>0.000000</td>\n",
              "      <td>1.000000</td>\n",
              "      <td>24.000000</td>\n",
              "      <td>0.000000</td>\n",
              "      <td>0.000000</td>\n",
              "      <td>0.000000</td>\n",
              "      <td>1.000000</td>\n",
              "      <td>0.000000</td>\n",
              "      <td>...</td>\n",
              "      <td>1.000000</td>\n",
              "      <td>0.000000</td>\n",
              "      <td>2.000000</td>\n",
              "      <td>0.000000</td>\n",
              "      <td>0.000000</td>\n",
              "      <td>0.000000</td>\n",
              "      <td>0.000000</td>\n",
              "      <td>6.000000</td>\n",
              "      <td>4.000000</td>\n",
              "      <td>5.000000</td>\n",
              "    </tr>\n",
              "    <tr>\n",
              "      <th>50%</th>\n",
              "      <td>0.000000</td>\n",
              "      <td>0.000000</td>\n",
              "      <td>0.000000</td>\n",
              "      <td>1.000000</td>\n",
              "      <td>27.000000</td>\n",
              "      <td>0.000000</td>\n",
              "      <td>0.000000</td>\n",
              "      <td>0.000000</td>\n",
              "      <td>1.000000</td>\n",
              "      <td>1.000000</td>\n",
              "      <td>...</td>\n",
              "      <td>1.000000</td>\n",
              "      <td>0.000000</td>\n",
              "      <td>2.000000</td>\n",
              "      <td>0.000000</td>\n",
              "      <td>0.000000</td>\n",
              "      <td>0.000000</td>\n",
              "      <td>0.000000</td>\n",
              "      <td>8.000000</td>\n",
              "      <td>5.000000</td>\n",
              "      <td>7.000000</td>\n",
              "    </tr>\n",
              "    <tr>\n",
              "      <th>75%</th>\n",
              "      <td>0.000000</td>\n",
              "      <td>1.000000</td>\n",
              "      <td>1.000000</td>\n",
              "      <td>1.000000</td>\n",
              "      <td>31.000000</td>\n",
              "      <td>1.000000</td>\n",
              "      <td>0.000000</td>\n",
              "      <td>0.000000</td>\n",
              "      <td>1.000000</td>\n",
              "      <td>1.000000</td>\n",
              "      <td>...</td>\n",
              "      <td>1.000000</td>\n",
              "      <td>0.000000</td>\n",
              "      <td>3.000000</td>\n",
              "      <td>2.000000</td>\n",
              "      <td>3.000000</td>\n",
              "      <td>0.000000</td>\n",
              "      <td>1.000000</td>\n",
              "      <td>10.000000</td>\n",
              "      <td>6.000000</td>\n",
              "      <td>8.000000</td>\n",
              "    </tr>\n",
              "    <tr>\n",
              "      <th>max</th>\n",
              "      <td>1.000000</td>\n",
              "      <td>1.000000</td>\n",
              "      <td>1.000000</td>\n",
              "      <td>1.000000</td>\n",
              "      <td>98.000000</td>\n",
              "      <td>1.000000</td>\n",
              "      <td>1.000000</td>\n",
              "      <td>2.000000</td>\n",
              "      <td>1.000000</td>\n",
              "      <td>1.000000</td>\n",
              "      <td>...</td>\n",
              "      <td>1.000000</td>\n",
              "      <td>1.000000</td>\n",
              "      <td>5.000000</td>\n",
              "      <td>30.000000</td>\n",
              "      <td>30.000000</td>\n",
              "      <td>1.000000</td>\n",
              "      <td>1.000000</td>\n",
              "      <td>13.000000</td>\n",
              "      <td>6.000000</td>\n",
              "      <td>8.000000</td>\n",
              "    </tr>\n",
              "  </tbody>\n",
              "</table>\n",
              "<p>8 rows × 22 columns</p>\n",
              "</div>"
            ],
            "text/plain": [
              "       HeartDiseaseorAttack         HighBP       HighChol      CholCheck  \\\n",
              "count         253680.000000  253680.000000  253680.000000  253680.000000   \n",
              "mean               0.094186       0.429001       0.424121       0.962670   \n",
              "std                0.292087       0.494934       0.494210       0.189571   \n",
              "min                0.000000       0.000000       0.000000       0.000000   \n",
              "25%                0.000000       0.000000       0.000000       1.000000   \n",
              "50%                0.000000       0.000000       0.000000       1.000000   \n",
              "75%                0.000000       1.000000       1.000000       1.000000   \n",
              "max                1.000000       1.000000       1.000000       1.000000   \n",
              "\n",
              "                 BMI         Smoker         Stroke       Diabetes  \\\n",
              "count  253680.000000  253680.000000  253680.000000  253680.000000   \n",
              "mean       28.382364       0.443169       0.040571       0.296921   \n",
              "std         6.608694       0.496761       0.197294       0.698160   \n",
              "min        12.000000       0.000000       0.000000       0.000000   \n",
              "25%        24.000000       0.000000       0.000000       0.000000   \n",
              "50%        27.000000       0.000000       0.000000       0.000000   \n",
              "75%        31.000000       1.000000       0.000000       0.000000   \n",
              "max        98.000000       1.000000       1.000000       2.000000   \n",
              "\n",
              "        PhysActivity         Fruits  ...  AnyHealthcare    NoDocbcCost  \\\n",
              "count  253680.000000  253680.000000  ...  253680.000000  253680.000000   \n",
              "mean        0.756544       0.634256  ...       0.951053       0.084177   \n",
              "std         0.429169       0.481639  ...       0.215759       0.277654   \n",
              "min         0.000000       0.000000  ...       0.000000       0.000000   \n",
              "25%         1.000000       0.000000  ...       1.000000       0.000000   \n",
              "50%         1.000000       1.000000  ...       1.000000       0.000000   \n",
              "75%         1.000000       1.000000  ...       1.000000       0.000000   \n",
              "max         1.000000       1.000000  ...       1.000000       1.000000   \n",
              "\n",
              "             GenHlth       MentHlth       PhysHlth       DiffWalk  \\\n",
              "count  253680.000000  253680.000000  253680.000000  253680.000000   \n",
              "mean        2.511392       3.184772       4.242081       0.168224   \n",
              "std         1.068477       7.412847       8.717951       0.374066   \n",
              "min         1.000000       0.000000       0.000000       0.000000   \n",
              "25%         2.000000       0.000000       0.000000       0.000000   \n",
              "50%         2.000000       0.000000       0.000000       0.000000   \n",
              "75%         3.000000       2.000000       3.000000       0.000000   \n",
              "max         5.000000      30.000000      30.000000       1.000000   \n",
              "\n",
              "                 Sex            Age      Education         Income  \n",
              "count  253680.000000  253680.000000  253680.000000  253680.000000  \n",
              "mean        0.440342       8.032119       5.050434       6.053875  \n",
              "std         0.496429       3.054220       0.985774       2.071148  \n",
              "min         0.000000       1.000000       1.000000       1.000000  \n",
              "25%         0.000000       6.000000       4.000000       5.000000  \n",
              "50%         0.000000       8.000000       5.000000       7.000000  \n",
              "75%         1.000000      10.000000       6.000000       8.000000  \n",
              "max         1.000000      13.000000       6.000000       8.000000  \n",
              "\n",
              "[8 rows x 22 columns]"
            ]
          },
          "execution_count": 5,
          "metadata": {},
          "output_type": "execute_result"
        }
      ],
      "source": [
        "data.describe()"
      ]
    },
    {
      "cell_type": "code",
      "execution_count": null,
      "id": "168938c6",
      "metadata": {
        "id": "168938c6",
        "outputId": "df32d882-f3e5-4a1f-8d3e-62fd425d2ee0"
      },
      "outputs": [
        {
          "data": {
            "text/html": [
              "<div>\n",
              "<style scoped>\n",
              "    .dataframe tbody tr th:only-of-type {\n",
              "        vertical-align: middle;\n",
              "    }\n",
              "\n",
              "    .dataframe tbody tr th {\n",
              "        vertical-align: top;\n",
              "    }\n",
              "\n",
              "    .dataframe thead th {\n",
              "        text-align: right;\n",
              "    }\n",
              "</style>\n",
              "<table border=\"1\" class=\"dataframe\">\n",
              "  <thead>\n",
              "    <tr style=\"text-align: right;\">\n",
              "      <th></th>\n",
              "      <th>HeartDiseaseorAttack</th>\n",
              "      <th>HighBP</th>\n",
              "      <th>HighChol</th>\n",
              "      <th>CholCheck</th>\n",
              "      <th>BMI</th>\n",
              "      <th>Smoker</th>\n",
              "      <th>Stroke</th>\n",
              "      <th>Diabetes</th>\n",
              "      <th>PhysActivity</th>\n",
              "      <th>Fruits</th>\n",
              "      <th>...</th>\n",
              "      <th>AnyHealthcare</th>\n",
              "      <th>NoDocbcCost</th>\n",
              "      <th>GenHlth</th>\n",
              "      <th>MentHlth</th>\n",
              "      <th>PhysHlth</th>\n",
              "      <th>DiffWalk</th>\n",
              "      <th>Sex</th>\n",
              "      <th>Age</th>\n",
              "      <th>Education</th>\n",
              "      <th>Income</th>\n",
              "    </tr>\n",
              "  </thead>\n",
              "  <tbody>\n",
              "    <tr>\n",
              "      <th>0</th>\n",
              "      <td>0.0</td>\n",
              "      <td>1.0</td>\n",
              "      <td>1.0</td>\n",
              "      <td>1.0</td>\n",
              "      <td>40.0</td>\n",
              "      <td>1.0</td>\n",
              "      <td>0.0</td>\n",
              "      <td>0.0</td>\n",
              "      <td>0.0</td>\n",
              "      <td>0.0</td>\n",
              "      <td>...</td>\n",
              "      <td>1.0</td>\n",
              "      <td>0.0</td>\n",
              "      <td>5.0</td>\n",
              "      <td>18.0</td>\n",
              "      <td>15.0</td>\n",
              "      <td>1.0</td>\n",
              "      <td>0.0</td>\n",
              "      <td>9.0</td>\n",
              "      <td>4.0</td>\n",
              "      <td>3.0</td>\n",
              "    </tr>\n",
              "    <tr>\n",
              "      <th>1</th>\n",
              "      <td>0.0</td>\n",
              "      <td>0.0</td>\n",
              "      <td>0.0</td>\n",
              "      <td>0.0</td>\n",
              "      <td>25.0</td>\n",
              "      <td>1.0</td>\n",
              "      <td>0.0</td>\n",
              "      <td>0.0</td>\n",
              "      <td>1.0</td>\n",
              "      <td>0.0</td>\n",
              "      <td>...</td>\n",
              "      <td>0.0</td>\n",
              "      <td>1.0</td>\n",
              "      <td>3.0</td>\n",
              "      <td>0.0</td>\n",
              "      <td>0.0</td>\n",
              "      <td>0.0</td>\n",
              "      <td>0.0</td>\n",
              "      <td>7.0</td>\n",
              "      <td>6.0</td>\n",
              "      <td>1.0</td>\n",
              "    </tr>\n",
              "    <tr>\n",
              "      <th>2</th>\n",
              "      <td>0.0</td>\n",
              "      <td>1.0</td>\n",
              "      <td>1.0</td>\n",
              "      <td>1.0</td>\n",
              "      <td>28.0</td>\n",
              "      <td>0.0</td>\n",
              "      <td>0.0</td>\n",
              "      <td>0.0</td>\n",
              "      <td>0.0</td>\n",
              "      <td>1.0</td>\n",
              "      <td>...</td>\n",
              "      <td>1.0</td>\n",
              "      <td>1.0</td>\n",
              "      <td>5.0</td>\n",
              "      <td>30.0</td>\n",
              "      <td>30.0</td>\n",
              "      <td>1.0</td>\n",
              "      <td>0.0</td>\n",
              "      <td>9.0</td>\n",
              "      <td>4.0</td>\n",
              "      <td>8.0</td>\n",
              "    </tr>\n",
              "    <tr>\n",
              "      <th>3</th>\n",
              "      <td>0.0</td>\n",
              "      <td>1.0</td>\n",
              "      <td>0.0</td>\n",
              "      <td>1.0</td>\n",
              "      <td>27.0</td>\n",
              "      <td>0.0</td>\n",
              "      <td>0.0</td>\n",
              "      <td>0.0</td>\n",
              "      <td>1.0</td>\n",
              "      <td>1.0</td>\n",
              "      <td>...</td>\n",
              "      <td>1.0</td>\n",
              "      <td>0.0</td>\n",
              "      <td>2.0</td>\n",
              "      <td>0.0</td>\n",
              "      <td>0.0</td>\n",
              "      <td>0.0</td>\n",
              "      <td>0.0</td>\n",
              "      <td>11.0</td>\n",
              "      <td>3.0</td>\n",
              "      <td>6.0</td>\n",
              "    </tr>\n",
              "    <tr>\n",
              "      <th>4</th>\n",
              "      <td>0.0</td>\n",
              "      <td>1.0</td>\n",
              "      <td>1.0</td>\n",
              "      <td>1.0</td>\n",
              "      <td>24.0</td>\n",
              "      <td>0.0</td>\n",
              "      <td>0.0</td>\n",
              "      <td>0.0</td>\n",
              "      <td>1.0</td>\n",
              "      <td>1.0</td>\n",
              "      <td>...</td>\n",
              "      <td>1.0</td>\n",
              "      <td>0.0</td>\n",
              "      <td>2.0</td>\n",
              "      <td>3.0</td>\n",
              "      <td>0.0</td>\n",
              "      <td>0.0</td>\n",
              "      <td>0.0</td>\n",
              "      <td>11.0</td>\n",
              "      <td>5.0</td>\n",
              "      <td>4.0</td>\n",
              "    </tr>\n",
              "  </tbody>\n",
              "</table>\n",
              "<p>5 rows × 22 columns</p>\n",
              "</div>"
            ],
            "text/plain": [
              "   HeartDiseaseorAttack  HighBP  HighChol  CholCheck   BMI  Smoker  Stroke  \\\n",
              "0                   0.0     1.0       1.0        1.0  40.0     1.0     0.0   \n",
              "1                   0.0     0.0       0.0        0.0  25.0     1.0     0.0   \n",
              "2                   0.0     1.0       1.0        1.0  28.0     0.0     0.0   \n",
              "3                   0.0     1.0       0.0        1.0  27.0     0.0     0.0   \n",
              "4                   0.0     1.0       1.0        1.0  24.0     0.0     0.0   \n",
              "\n",
              "   Diabetes  PhysActivity  Fruits  ...  AnyHealthcare  NoDocbcCost  GenHlth  \\\n",
              "0       0.0           0.0     0.0  ...            1.0          0.0      5.0   \n",
              "1       0.0           1.0     0.0  ...            0.0          1.0      3.0   \n",
              "2       0.0           0.0     1.0  ...            1.0          1.0      5.0   \n",
              "3       0.0           1.0     1.0  ...            1.0          0.0      2.0   \n",
              "4       0.0           1.0     1.0  ...            1.0          0.0      2.0   \n",
              "\n",
              "   MentHlth  PhysHlth  DiffWalk  Sex   Age  Education  Income  \n",
              "0      18.0      15.0       1.0  0.0   9.0        4.0     3.0  \n",
              "1       0.0       0.0       0.0  0.0   7.0        6.0     1.0  \n",
              "2      30.0      30.0       1.0  0.0   9.0        4.0     8.0  \n",
              "3       0.0       0.0       0.0  0.0  11.0        3.0     6.0  \n",
              "4       3.0       0.0       0.0  0.0  11.0        5.0     4.0  \n",
              "\n",
              "[5 rows x 22 columns]"
            ]
          },
          "execution_count": 26,
          "metadata": {},
          "output_type": "execute_result"
        }
      ],
      "source": [
        "data.head()"
      ]
    },
    {
      "cell_type": "markdown",
      "id": "fa53066e",
      "metadata": {
        "id": "fa53066e"
      },
      "source": [
        "# Feature Selection"
      ]
    },
    {
      "cell_type": "code",
      "execution_count": null,
      "id": "0e926b1c",
      "metadata": {
        "id": "0e926b1c"
      },
      "outputs": [],
      "source": [
        "from sklearn.feature_selection import RFE\n",
        "from sklearn.svm import SVC\n",
        "data=data.iloc[0:500,0:20]\n",
        "X = data.drop(['HeartDiseaseorAttack'] ,axis=\"columns\")\n",
        "y = data['HeartDiseaseorAttack']\n",
        "\n",
        "estimator = SVC(kernel=\"linear\")\n",
        "selector = RFE(estimator, n_features_to_select=6, step=1)\n",
        "selector = selector.fit(X, y)"
      ]
    },
    {
      "cell_type": "markdown",
      "id": "acbd54a4",
      "metadata": {
        "id": "acbd54a4"
      },
      "source": [
        "# Recursive Feature Elimination"
      ]
    },
    {
      "cell_type": "markdown",
      "id": "835dd89e",
      "metadata": {
        "id": "835dd89e"
      },
      "source": [
        "RFE is an example of backward feature elimination in which we essentially first fit our model using all the features in a given set, then progressively one by one we remove the least significant features, each time re-fitting, until we are left with the desired number of features, which is set by the parameter n_features_to_select.\n",
        "\n"
      ]
    },
    {
      "cell_type": "code",
      "execution_count": null,
      "id": "fa783115",
      "metadata": {
        "id": "fa783115",
        "outputId": "f756674c-600b-49ac-e2c8-0f349db4df9d"
      },
      "outputs": [
        {
          "name": "stdout",
          "output_type": "stream",
          "text": [
            "1 HighBP\n",
            "1 HighChol\n",
            "1 Smoker\n",
            "1 Stroke\n",
            "1 Diabetes\n",
            "1 AnyHealthcare\n",
            "2 DiffWalk\n",
            "3 HvyAlcoholConsump\n",
            "4 CholCheck\n",
            "5 GenHlth\n",
            "6 Sex\n",
            "7 Fruits\n",
            "8 BMI\n",
            "9 Age\n",
            "10 Veggies\n",
            "11 PhysActivity\n",
            "12 Education\n",
            "13 MentHlth\n",
            "14 Income\n",
            "15 PhysHlth\n",
            "16 NoDocbcCost\n"
          ]
        }
      ],
      "source": [
        "from operator import itemgetter\n",
        "features = X.columns.to_list()\n",
        "for x, y in (sorted(zip(selector.ranking_ , features), key=itemgetter(0))):\n",
        "    print(x, y)"
      ]
    },
    {
      "cell_type": "code",
      "execution_count": null,
      "id": "c855fc67",
      "metadata": {
        "id": "c855fc67"
      },
      "outputs": [],
      "source": [
        "from sklearn.feature_selection import RFE\n",
        "from sklearn.svm import SVC\n",
        "data=data.iloc[0:5000]\n",
        "X = data.drop(['HeartDiseaseorAttack'] ,axis=\"columns\")\n",
        "y = data['HeartDiseaseorAttack']\n",
        "\n",
        "estimator = SVC(kernel=\"linear\")\n",
        "selector = RFE(estimator, n_features_to_select=6, step=1)\n",
        "selector = selector.fit(X, y)"
      ]
    },
    {
      "cell_type": "code",
      "execution_count": null,
      "id": "e20dd924",
      "metadata": {
        "id": "e20dd924",
        "outputId": "e31726fd-b7ae-4b19-b744-403c605f36e9"
      },
      "outputs": [
        {
          "name": "stdout",
          "output_type": "stream",
          "text": [
            "1 HighBP\n",
            "1 Smoker\n",
            "1 Veggies\n",
            "1 HvyAlcoholConsump\n",
            "1 AnyHealthcare\n",
            "1 NoDocbcCost\n",
            "2 MentHlth\n",
            "3 Stroke\n",
            "4 CholCheck\n",
            "5 Sex\n",
            "6 HighChol\n",
            "7 Fruits\n",
            "8 GenHlth\n",
            "9 Diabetes\n",
            "10 DiffWalk\n",
            "11 PhysActivity\n",
            "12 Age\n",
            "13 Income\n",
            "14 Education\n",
            "15 PhysHlth\n",
            "16 BMI\n"
          ]
        }
      ],
      "source": [
        "from operator import itemgetter\n",
        "features = X.columns.to_list()\n",
        "for x, y in (sorted(zip(selector.ranking_ , features), key=itemgetter(0))):\n",
        "    print(x, y)"
      ]
    },
    {
      "cell_type": "code",
      "execution_count": null,
      "id": "1867fd63",
      "metadata": {
        "id": "1867fd63"
      },
      "outputs": [],
      "source": [
        "from qiskit.primitives import Sampler\n",
        "algorithm_globals.random_seed = 42\n",
        "quantum_instance = Sampler()"
      ]
    },
    {
      "cell_type": "code",
      "execution_count": null,
      "id": "03ccc793",
      "metadata": {
        "id": "03ccc793"
      },
      "outputs": [],
      "source": [
        "df2=data.iloc[0:200]\n",
        "X = df2[['HighBP','HighChol','Smoker']]\n",
        "y = df2['HeartDiseaseorAttack']\n",
        "x_train,x_test, y_train, y_test=train_test_split(X,y,test_size=0.30)\n",
        "std_scaler = StandardScaler().fit(X)\n",
        "X = std_scaler.transform(X)\n",
        "\n",
        "pca = PCA(n_components=3).fit(X)\n",
        "X = pca.transform(X)\n",
        "\n",
        "minmax_scaler = MinMaxScaler((0, 1)).fit(X)\n",
        "X = minmax_scaler.transform(X)\n",
        "\n",
        "# for cross validation\n",
        "X_df = pd.DataFrame(X, columns = ['A','B','C'])\n",
        "\n",
        "num_inputs = 3"
      ]
    },
    {
      "cell_type": "code",
      "execution_count": null,
      "id": "872ce28c",
      "metadata": {
        "id": "872ce28c",
        "outputId": "a688a869-9b96-43da-9811-b92fe58cc67b"
      },
      "outputs": [
        {
          "data": {
            "text/plain": [
              "<qiskit.circuit.quantumcircuit.QuantumCircuit at 0x27bb0fa5890>"
            ]
          },
          "execution_count": 111,
          "metadata": {},
          "output_type": "execute_result"
        }
      ],
      "source": [
        "# Classification with a CircuitQNN\n",
        "# construct feature map\n",
        "feature_map = ZFeatureMap(num_inputs)\n",
        "\n",
        "# construct ansatz\n",
        "ansatz = RealAmplitudes(num_inputs, reps=2)\n",
        "\n",
        "# construct quantum circuit\n",
        "qc = QuantumCircuit(num_inputs)\n",
        "qc.append(feature_map, range(num_inputs))\n",
        "qc.append(ansatz, range(num_inputs))\n",
        "qc.decompose()"
      ]
    },
    {
      "cell_type": "code",
      "execution_count": null,
      "id": "49705350",
      "metadata": {
        "id": "49705350",
        "outputId": "150578ec-4068-4e05-cd8c-c889c9243a3d"
      },
      "outputs": [
        {
          "data": {
            "image/png": "[encoded data removed]",
            "text/plain": [
              "<Figure size 454.719x284.278 with 1 Axes>"
            ]
          },
          "execution_count": 112,
          "metadata": {},
          "output_type": "execute_result"
        }
      ],
      "source": [
        "feature_map.decompose().draw(\"mpl\")"
      ]
    },
    {
      "cell_type": "code",
      "execution_count": null,
      "id": "dd88d0c7",
      "metadata": {
        "id": "dd88d0c7"
      },
      "outputs": [],
      "source": [
        "# parity maps bitstrings to 0 or 1\n",
        "def parity(x):\n",
        "    return \"{:b}\".format(x).count(\"1\") % 2\n",
        "\n",
        "\n",
        "output_shape = 2  # corresponds to the number of classes, possible outcomes of the (parity) mapping"
      ]
    },
    {
      "cell_type": "code",
      "execution_count": null,
      "id": "a61f9eef",
      "metadata": {
        "id": "a61f9eef"
      },
      "outputs": [],
      "source": [
        "# callback function that draws a live plot when the .fit() method is called\n",
        "def callback_graph(weights, obj_func_eval):\n",
        "    clear_output(wait=True)\n",
        "    objective_func_vals.append(obj_func_eval)\n",
        "    plt.xlabel(\"Iteration\")\n",
        "    plt.ylabel(\"Objective function value\")\n",
        "    plt.plot(range(len(objective_func_vals)), objective_func_vals)\n",
        "    plt.show()"
      ]
    },
    {
      "cell_type": "code",
      "execution_count": null,
      "id": "fa804c57",
      "metadata": {
        "id": "fa804c57"
      },
      "outputs": [],
      "source": [
        "from qiskit_machine_learning.neural_networks import SamplerQNN\n",
        "\n",
        "sampler_qnn = SamplerQNN(\n",
        "    circuit=qc,\n",
        "    input_params=feature_map.parameters,\n",
        "    weight_params=ansatz.parameters,\n",
        "    interpret=parity,\n",
        "    output_shape=2,\n",
        "    sampler=quantum_instance,\n",
        ")"
      ]
    },
    {
      "cell_type": "markdown",
      "id": "8bce5592",
      "metadata": {
        "id": "8bce5592"
      },
      "source": [
        "The target goal of Limited-memory Broyden-Fletcher-Goldfarb-Shanno Bound (L-BFGS-B) is to minimize the value of a differentiable scalar function This optimizer is a quasi-Newton method, meaning that, in contrast to Newtons’s method, it does not require Hessian (the matrix of second derivatives) when attempting to compute minimum value.\n",
        "\n",
        "BFGS using a limited amount of computer memory. L-BFGS starts with an initial estimate of the optimal value, and proceeds iteratively to refine that estimate with a sequence of better estimates.\n",
        "\n",
        "The derivatives of are used to identify the direction of steepest descent, and also to form an estimate of the Hessian matrix (second derivative) of L-BFGS-B extends L-BFGS to handle simple, per-variable bound constraints."
      ]
    },
    {
      "cell_type": "code",
      "execution_count": null,
      "id": "2b375daf",
      "metadata": {
        "id": "2b375daf"
      },
      "outputs": [],
      "source": [
        "# construct classifier\n",
        "circuit_classifier = NeuralNetworkClassifier(\n",
        "            neural_network=sampler_qnn, optimizer= L_BFGS_B(), loss='absolute_error', callback=callback_graph\n",
        ")"
      ]
    },
    {
      "cell_type": "code",
      "execution_count": null,
      "id": "e200997e",
      "metadata": {
        "id": "e200997e",
        "outputId": "8ce8e39d-04d2-48e5-89cf-114e7c1b7ba7"
      },
      "outputs": [
        {
          "data": {
            "image/png": "[encoded data removed]",
            "text/plain": [
              "<Figure size 1200x600 with 1 Axes>"
            ]
          },
          "metadata": {},
          "output_type": "display_data"
        },
        {
          "name": "stdout",
          "output_type": "stream",
          "text": [
            "Final prediction score: [0.84000000]\n"
          ]
        }
      ],
      "source": [
        "# cross validation\n",
        "objective_func_vals = []\n",
        "plt.rcParams[\"figure.figsize\"] = (12, 6)\n",
        "\n",
        "kf = KFold(n_splits = 8, shuffle = True, random_state= 1)\n",
        "scores = []\n",
        "for i in range(8):\n",
        "    result = next(kf.split(X_df), None)\n",
        "    x_train = X_df.iloc[result[0]]\n",
        "    x_test = X_df.iloc[result[1]]\n",
        "    y_train = y.iloc[result[0]]\n",
        "    y_test = y.iloc[result[1]]\n",
        "    circuit_classifier.fit(x_train,y_train)\n",
        "    y_pred = circuit_classifier.predict(x_test)\n",
        "\n",
        "plt.rcParams[\"figure.figsize\"] = (6, 4)\n",
        "print('Final prediction score: [%.8f]' % accuracy_score(y_test, y_pred))"
      ]
    },
    {
      "cell_type": "code",
      "execution_count": null,
      "id": "20fc37ad",
      "metadata": {
        "id": "20fc37ad"
      },
      "outputs": [],
      "source": [
        "m_n=[]\n",
        "m_n.append(accuracy_score(y_test, y_pred))\n",
        "acc=[]\n",
        "acc.append('QNN')"
      ]
    },
    {
      "cell_type": "code",
      "execution_count": null,
      "id": "77bd506b",
      "metadata": {
        "id": "77bd506b"
      },
      "outputs": [],
      "source": [
        "m_n.append(.84)\n",
        "acc.append('QNN')"
      ]
    },
    {
      "cell_type": "code",
      "execution_count": null,
      "id": "3edeb09e",
      "metadata": {
        "id": "3edeb09e",
        "outputId": "0f305ae3-bccc-4e3e-d404-57401d8b1909"
      },
      "outputs": [
        {
          "name": "stdout",
          "output_type": "stream",
          "text": [
            "Classification report: \n",
            "               precision    recall  f1-score   support\n",
            "\n",
            "         0.0       0.84      1.00      0.91        21\n",
            "         1.0       0.00      0.00      0.00         4\n",
            "\n",
            "    accuracy                           0.84        25\n",
            "   macro avg       0.42      0.50      0.46        25\n",
            "weighted avg       0.71      0.84      0.77        25\n",
            "\n",
            "Confusion matrix: \n",
            " [[21  0]\n",
            " [ 4  0]]\n"
          ]
        },
        {
          "name": "stderr",
          "output_type": "stream",
          "text": [
            "C:\\Users\\NAINA\\anaconda3\\Lib\\site-packages\\sklearn\\metrics\\_classification.py:1531: UndefinedMetricWarning: Precision is ill-defined and being set to 0.0 in labels with no predicted samples. Use `zero_division` parameter to control this behavior.\n",
            "  _warn_prf(average, modifier, f\"{metric.capitalize()} is\", len(result))\n",
            "C:\\Users\\NAINA\\anaconda3\\Lib\\site-packages\\sklearn\\metrics\\_classification.py:1531: UndefinedMetricWarning: Precision is ill-defined and being set to 0.0 in labels with no predicted samples. Use `zero_division` parameter to control this behavior.\n",
            "  _warn_prf(average, modifier, f\"{metric.capitalize()} is\", len(result))\n",
            "C:\\Users\\NAINA\\anaconda3\\Lib\\site-packages\\sklearn\\metrics\\_classification.py:1531: UndefinedMetricWarning: Precision is ill-defined and being set to 0.0 in labels with no predicted samples. Use `zero_division` parameter to control this behavior.\n",
            "  _warn_prf(average, modifier, f\"{metric.capitalize()} is\", len(result))\n"
          ]
        }
      ],
      "source": [
        "expected_y  = y_test\n",
        "predicted_y = circuit_classifier.predict(x_test)\n",
        "\n",
        "# print classification report and confusion matrix for the classifier\n",
        "print(\"Classification report: \\n\", metrics.classification_report(expected_y, predicted_y))\n",
        "print(\"Confusion matrix: \\n\", metrics.confusion_matrix(expected_y, predicted_y))"
      ]
    },
    {
      "cell_type": "code",
      "execution_count": null,
      "id": "305d3a42",
      "metadata": {
        "id": "305d3a42",
        "outputId": "f3648d2b-46b8-43fc-a213-46fbe8398970"
      },
      "outputs": [
        {
          "data": {
            "image/png": "[encoded data removed]",
            "text/plain": [
              "<Figure size 500x400 with 2 Axes>"
            ]
          },
          "metadata": {},
          "output_type": "display_data"
        }
      ],
      "source": [
        "#confusion matrix of QNN\n",
        "def cm_analysis(y_true, y_pred, labels, ymap=None, figsize=(5,4)):\n",
        "    if ymap is not None:\n",
        "        y_pred = [ymap[yi] for yi in y_pred]\n",
        "        y_true = [ymap[yi] for yi in y_true]\n",
        "        labels = [ymap[yi] for yi in labels]\n",
        "    cm = confusion_matrix(y_true, y_pred, labels=labels)\n",
        "    cm_sum = np.sum(cm, axis=1, keepdims=True)\n",
        "    cm_perc = cm / cm_sum.astype(float) * 100\n",
        "    annot = np.empty_like(cm).astype(str)\n",
        "    nrows, ncols = cm.shape\n",
        "    for i in range(nrows):\n",
        "        for j in range(ncols):\n",
        "            c = cm[i, j]\n",
        "            p = cm_perc[i, j]\n",
        "            if i == j:\n",
        "                s = cm_sum[i]\n",
        "                annot[i, j] = '%.1f%%\\n%d/%d' % (p, c, s)\n",
        "            elif c == 0:\n",
        "                annot[i, j] = ''\n",
        "            else:\n",
        "                annot[i, j] = '%.1f%%\\n%d' % (p, c)\n",
        "    cm = pd.DataFrame(cm, index=labels, columns=labels)\n",
        "    cm.index.name = 'Actual'\n",
        "    cm.columns.name = 'Predicted'\n",
        "    fig, ax = plt.subplots(figsize=figsize)\n",
        "    sns.heatmap(cm, annot=annot, fmt='', ax=ax)\n",
        "\n",
        "cm_analysis(y_test, predicted_y, labels=[0,1], ymap=None, figsize=(5,4))"
      ]
    },
    {
      "cell_type": "markdown",
      "id": "c244fc40",
      "metadata": {
        "id": "c244fc40"
      },
      "source": [
        "# Making variations in the same code :-using cobyla optimizer and without K-cross val and not using call_back graph"
      ]
    },
    {
      "cell_type": "code",
      "execution_count": null,
      "id": "35acefc7",
      "metadata": {
        "id": "35acefc7"
      },
      "outputs": [],
      "source": [
        "df2=data.iloc[0:200]\n",
        "X = df2[['HighBP','HighChol','Smoker']]\n",
        "y = df2['HeartDiseaseorAttack']\n",
        "x_train,x_test, y_train, y_test=train_test_split(X,y,test_size=0.30)\n",
        "std_scaler = StandardScaler().fit(X)\n",
        "X = std_scaler.transform(X)\n",
        "\n",
        "\n",
        "minmax_scaler = MinMaxScaler((0, 1)).fit(X)\n",
        "X = minmax_scaler.transform(X)\n",
        "\n",
        "# for cross validation\n",
        "X_df = pd.DataFrame(X, columns = ['A','B','C'])\n",
        "\n",
        "num_inputs = 3"
      ]
    },
    {
      "cell_type": "code",
      "execution_count": null,
      "id": "aeaf8446",
      "metadata": {
        "id": "aeaf8446"
      },
      "outputs": [],
      "source": [
        "# construct classifier\n",
        "circuit_classifier = NeuralNetworkClassifier(\n",
        "            neural_network=sampler_qnn, optimizer= COBYLA(), loss='absolute_error'\n",
        ")"
      ]
    },
    {
      "cell_type": "code",
      "execution_count": null,
      "id": "fe772209",
      "metadata": {
        "id": "fe772209"
      },
      "outputs": [],
      "source": [
        "x_train,x_test, y_train, y_test=train_test_split(X_df,y,test_size=0.30)\n",
        "circuit_classifier.fit(x_train,y_train)\n",
        "y_pred = circuit_classifier.predict(x_test)"
      ]
    },
    {
      "cell_type": "code",
      "execution_count": null,
      "id": "cdc0dbbe",
      "metadata": {
        "id": "cdc0dbbe",
        "outputId": "75fbbdc2-edd7-4ddc-b4a7-e1afaadf62cc"
      },
      "outputs": [
        {
          "name": "stdout",
          "output_type": "stream",
          "text": [
            "Classification report: \n",
            "               precision    recall  f1-score   support\n",
            "\n",
            "         0.0       0.91      0.75      0.82        56\n",
            "         1.0       0.00      0.00      0.00         4\n",
            "\n",
            "    accuracy                           0.70        60\n",
            "   macro avg       0.46      0.38      0.41        60\n",
            "weighted avg       0.85      0.70      0.77        60\n",
            "\n",
            "Confusion matrix: \n",
            " [[42 14]\n",
            " [ 4  0]]\n"
          ]
        }
      ],
      "source": [
        "expected_y  = y_test\n",
        "predicted_y = circuit_classifier.predict(x_test)\n",
        "\n",
        "# print classification report and confusion matrix for the classifier\n",
        "print(\"Classification report: \\n\", metrics.classification_report(expected_y, predicted_y))\n",
        "print(\"Confusion matrix: \\n\", metrics.confusion_matrix(expected_y, predicted_y))"
      ]
    },
    {
      "cell_type": "code",
      "execution_count": null,
      "id": "7f237e31",
      "metadata": {
        "id": "7f237e31",
        "outputId": "af4ff454-31e2-4615-e950-00edac081542"
      },
      "outputs": [
        {
          "name": "stdout",
          "output_type": "stream",
          "text": [
            "Final prediction score: [0.70000000]\n"
          ]
        }
      ],
      "source": [
        "print('Final prediction score: [%.8f]' % accuracy_score(y_test, y_pred))"
      ]
    },
    {
      "cell_type": "code",
      "execution_count": null,
      "id": "69615d4b",
      "metadata": {
        "id": "69615d4b"
      },
      "outputs": [],
      "source": [
        "m_n.append(.70)\n",
        "acc.append('QNN-COBYLA')"
      ]
    },
    {
      "cell_type": "markdown",
      "id": "ada8125b",
      "metadata": {
        "id": "ada8125b"
      },
      "source": [
        "# Using different loss function"
      ]
    },
    {
      "cell_type": "markdown",
      "id": "47145991",
      "metadata": {
        "id": "47145991"
      },
      "source": [
        "# QSVC"
      ]
    },
    {
      "cell_type": "code",
      "execution_count": null,
      "id": "29e5df6a",
      "metadata": {
        "id": "29e5df6a",
        "outputId": "7777309e-ea5b-442b-bee6-8ece1d656141"
      },
      "outputs": [
        {
          "name": "stderr",
          "output_type": "stream",
          "text": [
            "C:\\Users\\NAINA\\anaconda3\\Lib\\site-packages\\sklearn\\base.py:486: UserWarning: X has feature names, but MinMaxScaler was fitted without feature names\n",
            "  warnings.warn(\n",
            "C:\\Users\\NAINA\\anaconda3\\Lib\\site-packages\\sklearn\\base.py:486: UserWarning: X has feature names, but MinMaxScaler was fitted without feature names\n",
            "  warnings.warn(\n"
          ]
        }
      ],
      "source": [
        "data=data.iloc[0:200]\n",
        "X = data[['HighBP','HighChol','Smoker']]\n",
        "y = data['HeartDiseaseorAttack']\n",
        "\n",
        "X_train, X_test, y_train, y_test = train_test_split(X, y, test_size=0.30, random_state=0)\n",
        "\n",
        "samples = np.append(X_train, X_test, axis=0)\n",
        "minmax_scaler = MinMaxScaler((0, 1)).fit(samples)\n",
        "X_train = minmax_scaler.transform(X_train)\n",
        "X_test = minmax_scaler.transform(X_test)"
      ]
    },
    {
      "cell_type": "code",
      "execution_count": null,
      "id": "b73301e8",
      "metadata": {
        "id": "b73301e8"
      },
      "outputs": [],
      "source": [
        "# number of qubits is equal to the number of features\n",
        "num_qubits = 3\n",
        "# regularization parameter\n",
        "C = 10"
      ]
    },
    {
      "cell_type": "code",
      "execution_count": null,
      "id": "c09fbacb",
      "metadata": {
        "id": "c09fbacb"
      },
      "outputs": [],
      "source": [
        "adhoc_dimension=4\n",
        "adhoc_feature_map = ZZFeatureMap(feature_dimension=adhoc_dimension, reps=4, entanglement=\"linear\")\n",
        "#classical data is encoded into qubit angles\n",
        "sampler = Sampler()\n",
        "fidelity = ComputeUncompute(sampler=sampler)\n",
        "adhoc_kernel = FidelityQuantumKernel(fidelity=fidelity, feature_map=adhoc_feature_map)"
      ]
    },
    {
      "cell_type": "code",
      "execution_count": null,
      "id": "c04cec81",
      "metadata": {
        "id": "c04cec81",
        "outputId": "baf38e52-1c71-4971-d508-59dbd4dc6387"
      },
      "outputs": [
        {
          "name": "stdout",
          "output_type": "stream",
          "text": [
            "Confusion Matrix\n",
            "[[54  0]\n",
            " [ 6  0]]\n",
            "Classification Report\n",
            "              precision    recall  f1-score   support\n",
            "\n",
            "         0.0       0.90      1.00      0.95        54\n",
            "         1.0       0.00      0.00      0.00         6\n",
            "\n",
            "    accuracy                           0.90        60\n",
            "   macro avg       0.45      0.50      0.47        60\n",
            "weighted avg       0.81      0.90      0.85        60\n",
            "\n"
          ]
        },
        {
          "name": "stderr",
          "output_type": "stream",
          "text": [
            "C:\\Users\\NAINA\\anaconda3\\Lib\\site-packages\\sklearn\\metrics\\_classification.py:1531: UndefinedMetricWarning: Precision is ill-defined and being set to 0.0 in labels with no predicted samples. Use `zero_division` parameter to control this behavior.\n",
            "  _warn_prf(average, modifier, f\"{metric.capitalize()} is\", len(result))\n",
            "C:\\Users\\NAINA\\anaconda3\\Lib\\site-packages\\sklearn\\metrics\\_classification.py:1531: UndefinedMetricWarning: Precision is ill-defined and being set to 0.0 in labels with no predicted samples. Use `zero_division` parameter to control this behavior.\n",
            "  _warn_prf(average, modifier, f\"{metric.capitalize()} is\", len(result))\n",
            "C:\\Users\\NAINA\\anaconda3\\Lib\\site-packages\\sklearn\\metrics\\_classification.py:1531: UndefinedMetricWarning: Precision is ill-defined and being set to 0.0 in labels with no predicted samples. Use `zero_division` parameter to control this behavior.\n",
            "  _warn_prf(average, modifier, f\"{metric.capitalize()} is\", len(result))\n"
          ]
        },
        {
          "name": "stdout",
          "output_type": "stream",
          "text": [
            "QSVC classification test score: 0.9\n"
          ]
        }
      ],
      "source": [
        "\n",
        "qsvm_model = QSVC(quantum_kernel=adhoc_kernel)\n",
        "qsvm_model.fit(X_train, y_train.values.ravel())\n",
        "qsvm_pred = qsvm_model.predict(X_test)\n",
        "print(\"Confusion Matrix\")\n",
        "print(confusion_matrix(y_test, qsvm_pred))\n",
        "print(\"Classification Report\")\n",
        "print(classification_report(y_test, qsvm_pred))\n",
        "qsvc_score = qsvm_model.score(X_test, y_test)\n",
        "print(f\"QSVC classification test score: {qsvc_score}\")"
      ]
    },
    {
      "cell_type": "code",
      "execution_count": null,
      "id": "f6429a21",
      "metadata": {
        "id": "f6429a21"
      },
      "outputs": [],
      "source": [
        "m_n.append(qsvc_score)\n",
        "\n",
        "acc.append('QSVC')"
      ]
    },
    {
      "cell_type": "markdown",
      "id": "947e225c",
      "metadata": {
        "id": "947e225c"
      },
      "source": [
        "# Bagging SVC"
      ]
    },
    {
      "cell_type": "code",
      "execution_count": null,
      "id": "7f1d66b3",
      "metadata": {
        "id": "7f1d66b3",
        "outputId": "9e163862-8953-461c-cd7f-b766470b62b4"
      },
      "outputs": [
        {
          "name": "stdout",
          "output_type": "stream",
          "text": [
            "Model test Score: 0.9000,  Model training Score: 0.8500\n"
          ]
        }
      ],
      "source": [
        "# Pipeline Estimator\n",
        "pipeline = make_pipeline(MinMaxScaler(), qsvm_model)\n",
        "\n",
        "# Instantiate the bagging classifier\n",
        "bgclassifier = BaggingClassifier(estimator=pipeline, n_estimators=10,\n",
        "                                 random_state=1, n_jobs=-1)\n",
        "\n",
        "# Fit the bagging classifier\n",
        "bgclassifier.fit(X_train, y_train.ravel())\n",
        "\n",
        "# Model scores on test and training data\n",
        "print('Model test Score: %.4f, ' %bgclassifier.score(X_test, y_test),\n",
        "      'Model training Score: %.4f' %bgclassifier.score(X_train, y_train))\n"
      ]
    },
    {
      "cell_type": "code",
      "execution_count": null,
      "id": "3973a036",
      "metadata": {
        "id": "3973a036"
      },
      "outputs": [],
      "source": [
        "y_pred =bgclassifier.predict(X_test)\n",
        "m_n.append(accuracy_score(y_test, y_pred))\n",
        "acc.append('QSVC')"
      ]
    },
    {
      "cell_type": "code",
      "execution_count": null,
      "id": "67b9ddd7",
      "metadata": {
        "id": "67b9ddd7",
        "outputId": "d51df5ec-df35-4b01-c37e-8e81cbac761b"
      },
      "outputs": [
        {
          "name": "stdout",
          "output_type": "stream",
          "text": [
            "Confusion Matrix\n",
            "[[54  0]\n",
            " [ 6  0]]\n",
            "Classification Report\n",
            "              precision    recall  f1-score   support\n",
            "\n",
            "         0.0       0.90      1.00      0.95        54\n",
            "         1.0       0.00      0.00      0.00         6\n",
            "\n",
            "    accuracy                           0.90        60\n",
            "   macro avg       0.45      0.50      0.47        60\n",
            "weighted avg       0.81      0.90      0.85        60\n",
            "\n"
          ]
        },
        {
          "name": "stderr",
          "output_type": "stream",
          "text": [
            "C:\\Users\\NAINA\\anaconda3\\Lib\\site-packages\\sklearn\\metrics\\_classification.py:1531: UndefinedMetricWarning: Precision is ill-defined and being set to 0.0 in labels with no predicted samples. Use `zero_division` parameter to control this behavior.\n",
            "  _warn_prf(average, modifier, f\"{metric.capitalize()} is\", len(result))\n",
            "C:\\Users\\NAINA\\anaconda3\\Lib\\site-packages\\sklearn\\metrics\\_classification.py:1531: UndefinedMetricWarning: Precision is ill-defined and being set to 0.0 in labels with no predicted samples. Use `zero_division` parameter to control this behavior.\n",
            "  _warn_prf(average, modifier, f\"{metric.capitalize()} is\", len(result))\n",
            "C:\\Users\\NAINA\\anaconda3\\Lib\\site-packages\\sklearn\\metrics\\_classification.py:1531: UndefinedMetricWarning: Precision is ill-defined and being set to 0.0 in labels with no predicted samples. Use `zero_division` parameter to control this behavior.\n",
            "  _warn_prf(average, modifier, f\"{metric.capitalize()} is\", len(result))\n"
          ]
        },
        {
          "name": "stdout",
          "output_type": "stream",
          "text": [
            "QSVC classification test score: 0.9\n"
          ]
        }
      ],
      "source": [
        "print(\"Confusion Matrix\")\n",
        "print(confusion_matrix(y_test, y_pred))\n",
        "print(\"Classification Report\")\n",
        "print(classification_report(y_test, y_pred))\n",
        "qsvc_score = qsvm_model.score(X_test, y_test)\n",
        "print(f\"QSVC classification test score: {qsvc_score}\")"
      ]
    },
    {
      "cell_type": "markdown",
      "id": "82fd716e",
      "metadata": {
        "id": "82fd716e"
      },
      "source": [
        "# Classical models"
      ]
    },
    {
      "cell_type": "code",
      "execution_count": null,
      "id": "e7dba7b1",
      "metadata": {
        "id": "e7dba7b1",
        "outputId": "e70debed-f37b-4334-9024-678881baf02e"
      },
      "outputs": [
        {
          "data": {
            "text/plain": [
              "(200, 22)"
            ]
          },
          "execution_count": 132,
          "metadata": {},
          "output_type": "execute_result"
        }
      ],
      "source": [
        "data.shape"
      ]
    },
    {
      "cell_type": "code",
      "execution_count": null,
      "id": "9fcde5ce",
      "metadata": {
        "id": "9fcde5ce",
        "outputId": "ff61ffb2-00bf-45fc-e45d-b5dc536838e9"
      },
      "outputs": [
        {
          "name": "stdout",
          "output_type": "stream",
          "text": [
            "(200, 3)\n",
            "(200,)\n"
          ]
        }
      ],
      "source": [
        "data=data.iloc[0:200]\n",
        "X = data[['HighBP','HighChol','Smoker']]\n",
        "y = data['HeartDiseaseorAttack']\n",
        "print(X.shape)\n",
        "print(y.shape)"
      ]
    },
    {
      "cell_type": "code",
      "execution_count": null,
      "id": "8aa49d1f",
      "metadata": {
        "id": "8aa49d1f",
        "outputId": "884b0abe-4d8d-412f-b494-1d3d8ba52f2f"
      },
      "outputs": [
        {
          "name": "stdout",
          "output_type": "stream",
          "text": [
            "shapes: \n",
            "X_train  (160, 3)\n",
            "X_test  (40, 3)\n",
            "y_train  (160,)\n",
            "y_test  (40,)\n"
          ]
        }
      ],
      "source": [
        "X_train, X_test, y_train, y_test = train_test_split(X,y, test_size=0.2, random_state = 42)\n",
        "print(\"shapes: \")\n",
        "print(\"X_train \", X_train.shape)\n",
        "print(\"X_test \", X_test.shape)\n",
        "print(\"y_train \", y_train.shape)\n",
        "print(\"y_test \", y_test.shape)"
      ]
    },
    {
      "cell_type": "code",
      "execution_count": null,
      "id": "4c880be6",
      "metadata": {
        "id": "4c880be6",
        "outputId": "d790fa71-ea30-4812-fbdb-c75d4b37c94a"
      },
      "outputs": [
        {
          "name": "stdout",
          "output_type": "stream",
          "text": [
            "Decision Tree: Mean Accuracy = 0.8688 (Std. Dev. = 0.0125)\n",
            "0.85\n"
          ]
        }
      ],
      "source": [
        "tree = DecisionTreeClassifier()\n",
        "tree.fit(X_train, y_train)\n",
        "scores = cross_val_score(tree, X_train, y_train, cv=5, scoring=\"accuracy\")\n",
        "print(f\"Decision Tree: Mean Accuracy = {scores.mean():.4f} (Std. Dev. = {scores.std():.4f})\")\n",
        "accuracy=accuracy_score(y_test,tree.predict(X_test));\n",
        "print(accuracy)"
      ]
    },
    {
      "cell_type": "code",
      "execution_count": null,
      "id": "02498142",
      "metadata": {
        "id": "02498142",
        "outputId": "3b45e1f8-9128-44b3-aa56-77a6614eb7d4"
      },
      "outputs": [
        {
          "name": "stdout",
          "output_type": "stream",
          "text": [
            "0.85\n"
          ]
        }
      ],
      "source": [
        "model=BaggingClassifier(estimator=tree,n_estimators=100)\n",
        "model.fit(X_train,y_train)\n",
        "accuracy=accuracy_score(y_test,model.predict(X_test));\n",
        "print(accuracy)"
      ]
    },
    {
      "cell_type": "code",
      "execution_count": null,
      "id": "38f84fad",
      "metadata": {
        "id": "38f84fad",
        "outputId": "0620c07e-ae57-425b-fb55-7c440587963e"
      },
      "outputs": [
        {
          "name": "stdout",
          "output_type": "stream",
          "text": [
            "0.85\n"
          ]
        }
      ],
      "source": [
        "rf=RandomForestClassifier(max_depth=2,random_state=0)\n",
        "model_rf=BaggingClassifier(estimator=rf,n_estimators=100)\n",
        "model_rf.fit(X_train,y_train)\n",
        "accuracy_rf=accuracy_score(y_test,model_rf.predict(X_test));\n",
        "print(accuracy_rf)"
      ]
    },
    {
      "cell_type": "code",
      "execution_count": null,
      "id": "55169265",
      "metadata": {
        "id": "55169265",
        "outputId": "ccae3fa8-f278-421f-eae6-9e0e104a9c54"
      },
      "outputs": [
        {
          "name": "stdout",
          "output_type": "stream",
          "text": [
            "0.85\n"
          ]
        }
      ],
      "source": [
        "knn=KNeighborsClassifier(n_neighbors=3)\n",
        "model_knn=BaggingClassifier(estimator=knn,n_estimators=100)\n",
        "model_knn.fit(X_train,y_train)\n",
        "accuracy_knn=accuracy_score(y_test,model_knn.predict(X_test));\n",
        "print(accuracy_knn)"
      ]
    },
    {
      "cell_type": "code",
      "execution_count": null,
      "id": "613197f1",
      "metadata": {
        "id": "613197f1",
        "outputId": "9fbb8472-faed-47ba-dbfc-1533609acc0c"
      },
      "outputs": [
        {
          "name": "stdout",
          "output_type": "stream",
          "text": [
            "0.85\n"
          ]
        }
      ],
      "source": [
        "model_gb=GradientBoostingClassifier(learning_rate=.1).fit(X_train,y_train)\n",
        "accuracy_gb=accuracy_score(y_test,model_gb.predict(X_test));\n",
        "print(accuracy_gb)"
      ]
    },
    {
      "cell_type": "code",
      "execution_count": null,
      "id": "517adf57",
      "metadata": {
        "id": "517adf57",
        "outputId": "c8563fb6-7a38-49e3-d944-7b07cf1b53ea"
      },
      "outputs": [
        {
          "name": "stdout",
          "output_type": "stream",
          "text": [
            "0.85\n"
          ]
        },
        {
          "name": "stderr",
          "output_type": "stream",
          "text": [
            "C:\\Users\\NAINA\\anaconda3\\Lib\\site-packages\\sklearn\\ensemble\\_weight_boosting.py:527: FutureWarning: The SAMME.R algorithm (the default) is deprecated and will be removed in 1.6. Use the SAMME algorithm to circumvent this warning.\n",
            "  warnings.warn(\n"
          ]
        }
      ],
      "source": [
        "model_ab=AdaBoostClassifier(n_estimators=100,random_state=0).fit(X_train,y_train)\n",
        "accuracy_ab=accuracy_score(y_test,model_ab.predict(X_test));\n",
        "print(accuracy_ab)"
      ]
    },
    {
      "cell_type": "code",
      "execution_count": null,
      "id": "8feb0785",
      "metadata": {
        "id": "8feb0785",
        "outputId": "32143447-0473-4143-81c0-74d6b841a6c5"
      },
      "outputs": [
        {
          "name": "stdout",
          "output_type": "stream",
          "text": [
            "0.85\n"
          ]
        }
      ],
      "source": [
        "model_xgb=xgb.XGBClassifier(n_estimators=100,objective='binary:logistic',tree_method='hist',max_depth=3,enable_categorical=True).fit(X_train,y_train)\n",
        "accuracy_xgb=accuracy_score(y_test,model_xgb.predict(X_test));\n",
        "print(accuracy_xgb)"
      ]
    },
    {
      "cell_type": "code",
      "execution_count": null,
      "id": "10066188",
      "metadata": {
        "id": "10066188"
      },
      "outputs": [],
      "source": [
        "voting=VotingClassifier(estimators=[\n",
        "    ('dt',DecisionTreeClassifier()),('rf',RandomForestClassifier(max_depth=2,random_state=0)),('knn',KNeighborsClassifier(n_neighbors=3))],voting='hard')"
      ]
    },
    {
      "cell_type": "code",
      "execution_count": null,
      "id": "6094388a",
      "metadata": {
        "id": "6094388a",
        "outputId": "726a3e20-6e42-4d27-d85e-61ef36d79754"
      },
      "outputs": [
        {
          "name": "stdout",
          "output_type": "stream",
          "text": [
            "0.85\n"
          ]
        }
      ],
      "source": [
        "voting.fit(X_train,y_train)\n",
        "accuracy_voting=accuracy_score(y_test,voting.predict(X_test));\n",
        "print(accuracy_voting)"
      ]
    },
    {
      "cell_type": "code",
      "execution_count": null,
      "id": "2a1af84d",
      "metadata": {
        "id": "2a1af84d"
      },
      "outputs": [],
      "source": [
        "# evaluate each base model\n",
        "def evaluate_models(models, X_train, X_val, y_train, y_val):\n",
        " # fit and evaluate the models\n",
        " scores = list()\n",
        " for name, model in models:\n",
        " # fit the model\n",
        "  model.fit(X_train, y_train)\n",
        " # evaluate the model\n",
        "  yhat = model.predict(X_val)\n",
        "  acc = accuracy_score(y_val, yhat)\n",
        " # store the performance\n",
        "  scores.append(acc)\n",
        " # report model performance\n",
        " return scores"
      ]
    },
    {
      "cell_type": "code",
      "execution_count": null,
      "id": "4f140c31",
      "metadata": {
        "id": "4f140c31",
        "outputId": "885a8273-9e96-4277-a188-49c38745456d"
      },
      "outputs": [
        {
          "name": "stdout",
          "output_type": "stream",
          "text": [
            "[0.85, 0.85, 0.85, 0.85]\n"
          ]
        }
      ],
      "source": [
        "def get_models():\n",
        " models = list()\n",
        " models.append(('dt', DecisionTreeClassifier()))\n",
        " models.append(('rf', RandomForestClassifier(max_depth=2,random_state=0)))\n",
        " models.append(('knn',KNeighborsClassifier(n_neighbors=3)))\n",
        " models.append(('lg',LogisticRegression()))\n",
        " return models\n",
        "models = get_models()\n",
        "# fit and evaluate each model\n",
        "scores = evaluate_models(models, X_train, X_test, y_train, y_test)\n",
        "print(scores)"
      ]
    },
    {
      "cell_type": "code",
      "execution_count": null,
      "id": "5b0416b7",
      "metadata": {
        "id": "5b0416b7",
        "outputId": "8609c0da-f7d2-4dbd-f3a6-d0521ff3d095"
      },
      "outputs": [
        {
          "name": "stdout",
          "output_type": "stream",
          "text": [
            "0.85\n",
            "Weighted Avg Accuracy: 85.000\n"
          ]
        }
      ],
      "source": [
        "# create the ensemble\n",
        "ensemble = VotingClassifier(estimators=models, voting='soft', weights=scores)\n",
        "# fit the ensemble on the training dataset\n",
        "ensemble.fit(X_train, y_train)\n",
        "# make predictions on test set\n",
        "yhat = ensemble.predict(X_test)\n",
        "# evaluate predictions\n",
        "score = accuracy_score(y_test, yhat)\n",
        "print(score)\n",
        "print('Weighted Avg Accuracy: %.3f' % (score*100))"
      ]
    },
    {
      "cell_type": "code",
      "execution_count": null,
      "id": "63402992",
      "metadata": {
        "id": "63402992"
      },
      "outputs": [],
      "source": [
        "def fit_ensemble(models, X_train, X_val, y_train, y_val):\n",
        " # fit all models on the training set and predict on hold out set\n",
        " meta_X = list()\n",
        " for name, model in models:\n",
        " # fit in training set\n",
        "  model.fit(X_train, y_train)\n",
        " # predict on hold out set\n",
        "  yhat = model.predict(X_val)\n",
        " # reshape predictions into a matrix with one column\n",
        "  yhat = yhat.reshape(len(yhat), 1)\n",
        " # store predictions as input for blending\n",
        "  meta_X.append(yhat)\n",
        " # create 2d array from predictions, each set is an input feature\n",
        " meta_X = hstack(meta_X)\n",
        " # define blending model\n",
        " blender = MLPClassifier(random_state=1, max_iter=1000)\n",
        " # fit on predictions from base models\n",
        " blender.fit(meta_X, y_val)\n",
        " return blender"
      ]
    },
    {
      "cell_type": "code",
      "execution_count": null,
      "id": "88e7e671",
      "metadata": {
        "id": "88e7e671"
      },
      "outputs": [],
      "source": [
        "## make a prediction with the blending ensemble\n",
        "def predict_ensemble(models, blender, X_test):\n",
        " # make predictions with base models\n",
        " meta_X = list()\n",
        " for name, model in models:\n",
        " # predict with base model\n",
        "  yhat = model.predict(X_test)\n",
        " # reshape predictions into a matrix with one column\n",
        "  yhat = yhat.reshape(len(yhat), 1)\n",
        " # store prediction\n",
        "  meta_X.append(yhat)\n",
        " # create 2d array from predictions, each set is an input feature\n",
        " meta_X = hstack(meta_X)\n",
        " # predict\n",
        " return blender.predict(meta_X)"
      ]
    },
    {
      "cell_type": "code",
      "execution_count": null,
      "id": "ef61e6f5",
      "metadata": {
        "id": "ef61e6f5",
        "outputId": "668182f0-3002-42ec-c15e-8abcc7231237"
      },
      "outputs": [
        {
          "name": "stdout",
          "output_type": "stream",
          "text": [
            "0.85\n",
            "Blending Accuracy: 85.000\n"
          ]
        }
      ],
      "source": [
        "models = get_models()\n",
        "# train the blending ensemble\n",
        "blender = fit_ensemble(models, X_train, X_test, y_train, y_test)\n",
        "# make predictions on test set\n",
        "yhat = predict_ensemble(models, blender, X_test)\n",
        "# evaluate predictions\n",
        "score = accuracy_score(y_test, yhat)\n",
        "print(score)\n",
        "print('Blending Accuracy: %.3f' % (score*100))"
      ]
    },
    {
      "cell_type": "code",
      "execution_count": null,
      "id": "863dd7f7",
      "metadata": {
        "id": "863dd7f7",
        "outputId": "0ecb6e66-25a7-4d3f-936c-4f5e7381d0a8"
      },
      "outputs": [
        {
          "name": "stderr",
          "output_type": "stream",
          "text": [
            "C:\\Users\\NAINA\\anaconda3\\Lib\\site-packages\\sklearn\\ensemble\\_weight_boosting.py:527: FutureWarning: The SAMME.R algorithm (the default) is deprecated and will be removed in 1.6. Use the SAMME algorithm to circumvent this warning.\n",
            "  warnings.warn(\n"
          ]
        },
        {
          "name": "stdout",
          "output_type": "stream",
          "text": [
            "Decision tree Accuracy: 0.85\n",
            "Bagging-DT Accuracy: 0.85\n",
            "Baggig-KNN Accuracy: 0.85\n",
            "Bagging-RF Accuracy: 0.85\n",
            "Boosting-gb Accuracy: 0.85\n",
            "Boosting-ada Accuracy: 0.85\n",
            "Boosting-xgb Accuracy: 0.85\n",
            "Stacking-voting Accuracy: 0.85\n",
            "Stacking-weighted_avg Accuracy: 0.85\n",
            "Stacking-blendind Accuracy: 0.85\n"
          ]
        }
      ],
      "source": [
        "models = {\n",
        "    \"Decision tree\":tree,\n",
        "    \"Bagging-DT\":model,\n",
        "    \"Baggig-KNN\":knn ,\n",
        "    \"Bagging-RF\":rf,\n",
        "    \"Boosting-gb\":model_gb,\n",
        "    \"Boosting-ada\":model_ab,\n",
        "    \"Boosting-xgb\":model_xgb,\n",
        "    \"Stacking-voting\":voting,\n",
        "    \"Stacking-weighted_avg\":ensemble,\n",
        "    \"Stacking-blendind\":blender\n",
        "}\n",
        "\n",
        "# Train and evaluate models\n",
        "accuracies = {}\n",
        "for name, model in models.items():\n",
        "    model.fit(X_train, y_train)\n",
        "    y_pred = model.predict(X_test)\n",
        "    accuracy = accuracy_score(y_test, y_pred)\n",
        "    accuracies[name] = accuracy\n",
        "\n",
        "# Print accuracies\n",
        "for name, accuracy in accuracies.items():\n",
        "    print(f\"{name} Accuracy: {accuracy}\")"
      ]
    },
    {
      "cell_type": "code",
      "execution_count": null,
      "id": "b1a659ef",
      "metadata": {
        "id": "b1a659ef",
        "outputId": "6fd4c3e3-44b5-4e35-d598-a35941d961e1"
      },
      "outputs": [
        {
          "name": "stdout",
          "output_type": "stream",
          "text": [
            "Requirement already satisfied: xgboost in c:\\users\\naina\\anaconda3\\lib\\site-packages (2.1.1)\n",
            "Requirement already satisfied: numpy in c:\\users\\naina\\anaconda3\\lib\\site-packages (from xgboost) (1.24.3)\n",
            "Requirement already satisfied: scipy in c:\\users\\naina\\anaconda3\\lib\\site-packages (from xgboost) (1.11.1)\n"
          ]
        }
      ],
      "source": [
        "!pip install xgboost"
      ]
    },
    {
      "cell_type": "markdown",
      "id": "cc5e9148",
      "metadata": {
        "id": "cc5e9148"
      },
      "source": [
        "# MLP WITHOUT HIDDEN LAYER AND ACTIVATION FUNCTION"
      ]
    },
    {
      "cell_type": "code",
      "execution_count": null,
      "id": "c3c91e13",
      "metadata": {
        "id": "c3c91e13",
        "outputId": "eddc2c11-41a0-44cd-a45d-5a48dae401cf"
      },
      "outputs": [
        {
          "name": "stdout",
          "output_type": "stream",
          "text": [
            "Final prediction score: [0.85000000]\n"
          ]
        },
        {
          "name": "stderr",
          "output_type": "stream",
          "text": [
            "C:\\Users\\NAINA\\anaconda3\\Lib\\site-packages\\sklearn\\neural_network\\_multilayer_perceptron.py:690: ConvergenceWarning: Stochastic Optimizer: Maximum iterations (100) reached and the optimization hasn't converged yet.\n",
            "  warnings.warn(\n"
          ]
        }
      ],
      "source": [
        "model = MLPClassifier(max_iter=100,  random_state=5)\n",
        "model = model.fit(X_train, y_train)\n",
        "y_pred = model.predict(X_test)\n",
        "print('Final prediction score: [%.8f]' % accuracy_score(y_test, y_pred))"
      ]
    },
    {
      "cell_type": "code",
      "execution_count": null,
      "id": "a8b6ca31",
      "metadata": {
        "id": "a8b6ca31",
        "outputId": "2ef64b37-7f7e-47e1-cd39-2d6b1e11a0fd"
      },
      "outputs": [
        {
          "name": "stdout",
          "output_type": "stream",
          "text": [
            "Confusion Matrix\n",
            "[[34  0]\n",
            " [ 6  0]]\n",
            "Classification Report\n",
            "              precision    recall  f1-score   support\n",
            "\n",
            "         0.0       0.85      1.00      0.92        34\n",
            "         1.0       0.00      0.00      0.00         6\n",
            "\n",
            "    accuracy                           0.85        40\n",
            "   macro avg       0.42      0.50      0.46        40\n",
            "weighted avg       0.72      0.85      0.78        40\n",
            "\n",
            "MLP classification test score: 0.85\n"
          ]
        },
        {
          "name": "stderr",
          "output_type": "stream",
          "text": [
            "C:\\Users\\NAINA\\anaconda3\\Lib\\site-packages\\sklearn\\metrics\\_classification.py:1531: UndefinedMetricWarning: Precision is ill-defined and being set to 0.0 in labels with no predicted samples. Use `zero_division` parameter to control this behavior.\n",
            "  _warn_prf(average, modifier, f\"{metric.capitalize()} is\", len(result))\n",
            "C:\\Users\\NAINA\\anaconda3\\Lib\\site-packages\\sklearn\\metrics\\_classification.py:1531: UndefinedMetricWarning: Precision is ill-defined and being set to 0.0 in labels with no predicted samples. Use `zero_division` parameter to control this behavior.\n",
            "  _warn_prf(average, modifier, f\"{metric.capitalize()} is\", len(result))\n",
            "C:\\Users\\NAINA\\anaconda3\\Lib\\site-packages\\sklearn\\metrics\\_classification.py:1531: UndefinedMetricWarning: Precision is ill-defined and being set to 0.0 in labels with no predicted samples. Use `zero_division` parameter to control this behavior.\n",
            "  _warn_prf(average, modifier, f\"{metric.capitalize()} is\", len(result))\n"
          ]
        }
      ],
      "source": [
        "print(\"Confusion Matrix\")\n",
        "print(confusion_matrix(y_test, y_pred))\n",
        "print(\"Classification Report\")\n",
        "print(classification_report(y_test, y_pred))\n",
        "\n",
        "print(f\"MLP classification test score: {accuracy_score(y_test, y_pred)}\")"
      ]
    },
    {
      "cell_type": "markdown",
      "id": "d31de825",
      "metadata": {
        "id": "d31de825"
      },
      "source": [
        "# MLP WITH HIDDEN LAYER AND RELU ACTIVATION FUNCTION AND ADAM OPTIMIZER"
      ]
    },
    {
      "cell_type": "code",
      "execution_count": null,
      "id": "38d324b7",
      "metadata": {
        "id": "38d324b7",
        "outputId": "a34be05c-76fd-4d40-a615-6eb706c0b7fa"
      },
      "outputs": [
        {
          "name": "stderr",
          "output_type": "stream",
          "text": [
            "C:\\Users\\NAINA\\anaconda3\\Lib\\site-packages\\sklearn\\base.py:486: UserWarning: X has feature names, but MinMaxScaler was fitted without feature names\n",
            "  warnings.warn(\n",
            "C:\\Users\\NAINA\\anaconda3\\Lib\\site-packages\\sklearn\\base.py:486: UserWarning: X has feature names, but MinMaxScaler was fitted without feature names\n",
            "  warnings.warn(\n"
          ]
        }
      ],
      "source": [
        "data=data.iloc[0:200]\n",
        "X = data[['HighBP','HighChol','Smoker']]\n",
        "y = data['HeartDiseaseorAttack']\n",
        "\n",
        "X_train, X_test, y_train, y_test = train_test_split(X, y, test_size=0.30, random_state=0)\n",
        "\n",
        "samples = np.append(X_train, X_test, axis=0)\n",
        "minmax_scaler = MinMaxScaler((0, 1)).fit(samples)\n",
        "X_train = minmax_scaler.transform(X_train)\n",
        "X_test = minmax_scaler.transform(X_test)"
      ]
    },
    {
      "cell_type": "code",
      "execution_count": null,
      "id": "144ba59a",
      "metadata": {
        "id": "144ba59a",
        "outputId": "7835c304-e591-4ffc-d38d-9d082c4b2426"
      },
      "outputs": [
        {
          "name": "stdout",
          "output_type": "stream",
          "text": [
            "Final prediction score: [0.90000000]\n"
          ]
        }
      ],
      "source": [
        "model = MLPClassifier(hidden_layer_sizes=(150,100,50), max_iter=200,activation = 'relu',solver='adam',random_state=1)\n",
        "model = model.fit(X_train, y_train)\n",
        "y_pred = model.predict(X_test)\n",
        "print('Final prediction score: [%.8f]' % accuracy_score(y_test, y_pred))\n",
        "#m_n.append(accuracy_score(y_test, y_pred))\n",
        "#acc.append('MLP')"
      ]
    },
    {
      "cell_type": "code",
      "execution_count": null,
      "id": "607ee4eb",
      "metadata": {
        "id": "607ee4eb",
        "outputId": "65dc153b-df8b-4d01-b2ef-fd28444bc9c1"
      },
      "outputs": [
        {
          "name": "stdout",
          "output_type": "stream",
          "text": [
            "Confusion Matrix\n",
            "[[54  0]\n",
            " [ 6  0]]\n",
            "Classification Report\n",
            "              precision    recall  f1-score   support\n",
            "\n",
            "         0.0       0.90      1.00      0.95        54\n",
            "         1.0       0.00      0.00      0.00         6\n",
            "\n",
            "    accuracy                           0.90        60\n",
            "   macro avg       0.45      0.50      0.47        60\n",
            "weighted avg       0.81      0.90      0.85        60\n",
            "\n",
            "MLP classification test score: 0.9\n"
          ]
        },
        {
          "name": "stderr",
          "output_type": "stream",
          "text": [
            "C:\\Users\\NAINA\\anaconda3\\Lib\\site-packages\\sklearn\\metrics\\_classification.py:1531: UndefinedMetricWarning: Precision is ill-defined and being set to 0.0 in labels with no predicted samples. Use `zero_division` parameter to control this behavior.\n",
            "  _warn_prf(average, modifier, f\"{metric.capitalize()} is\", len(result))\n",
            "C:\\Users\\NAINA\\anaconda3\\Lib\\site-packages\\sklearn\\metrics\\_classification.py:1531: UndefinedMetricWarning: Precision is ill-defined and being set to 0.0 in labels with no predicted samples. Use `zero_division` parameter to control this behavior.\n",
            "  _warn_prf(average, modifier, f\"{metric.capitalize()} is\", len(result))\n",
            "C:\\Users\\NAINA\\anaconda3\\Lib\\site-packages\\sklearn\\metrics\\_classification.py:1531: UndefinedMetricWarning: Precision is ill-defined and being set to 0.0 in labels with no predicted samples. Use `zero_division` parameter to control this behavior.\n",
            "  _warn_prf(average, modifier, f\"{metric.capitalize()} is\", len(result))\n"
          ]
        }
      ],
      "source": [
        "print(\"Confusion Matrix\")\n",
        "print(confusion_matrix(y_test, y_pred))\n",
        "print(\"Classification Report\")\n",
        "print(classification_report(y_test, y_pred))\n",
        "\n",
        "print(f\"MLP classification test score: {accuracy_score(y_test, y_pred)}\")"
      ]
    },
    {
      "cell_type": "markdown",
      "id": "697186d1",
      "metadata": {
        "id": "697186d1"
      },
      "source": [
        "# VQC"
      ]
    },
    {
      "cell_type": "markdown",
      "id": "a5a6dbd4",
      "metadata": {
        "id": "a5a6dbd4"
      },
      "source": [
        "VQC stands for “variational quantum classifier.” It takes a feature map and an ansatz and constructs a quantum neural network automatically"
      ]
    },
    {
      "cell_type": "code",
      "execution_count": null,
      "id": "7d602fbe",
      "metadata": {
        "id": "7d602fbe",
        "outputId": "a83fa359-13bf-485b-8150-44787c41d29a"
      },
      "outputs": [
        {
          "data": {
            "image/png": "[encoded data removed]",
            "text/plain": [
              "<Figure size 1541.66x284.278 with 1 Axes>"
            ]
          },
          "execution_count": 160,
          "metadata": {},
          "output_type": "execute_result"
        }
      ],
      "source": [
        "data=data.iloc[0:200]\n",
        "X = data[['HighBP','HighChol','Smoker']]\n",
        "y = data['HeartDiseaseorAttack']\n",
        "num_features = X.shape[1]\n",
        "\n",
        "feature_map = ZZFeatureMap(feature_dimension=num_features, reps=1)\n",
        "feature_map.decompose().draw(output=\"mpl\", style=\"clifford\", fold=20)"
      ]
    },
    {
      "cell_type": "code",
      "execution_count": null,
      "id": "6de59c94",
      "metadata": {
        "id": "6de59c94"
      },
      "outputs": [],
      "source": [
        "train_features, test_features, train_labels, test_labels = train_test_split(\n",
        "    X, y.to_numpy().reshape(-1,1), train_size=0.8, random_state=algorithm_globals.random_seed\n",
        ")"
      ]
    },
    {
      "cell_type": "markdown",
      "id": "d7cd8636",
      "metadata": {
        "id": "d7cd8636"
      },
      "source": [
        "The real-amplitudes 2-local circuit.The RealAmplitudes circuit is a heuristic trial wave function . The circuit consists of alternating layers of Y rotations and CX entanglements. The entanglement pattern can be user-defined or selected from a predefined set. It is called RealAmplitudes since the prepared quantum states will only have real amplitudes, the complex part is always 0."
      ]
    },
    {
      "cell_type": "code",
      "execution_count": null,
      "id": "bb002c55",
      "metadata": {
        "id": "bb002c55",
        "outputId": "2ee8e052-442f-4a38-9403-842467dfbd15"
      },
      "outputs": [
        {
          "data": {
            "image/png": "[encoded data removed]",
            "text/plain": [
              "<Figure size 956.385x284.278 with 1 Axes>"
            ]
          },
          "execution_count": 162,
          "metadata": {},
          "output_type": "execute_result"
        }
      ],
      "source": [
        "ansatz = RealAmplitudes(num_qubits=num_features, reps=3)\n",
        "ansatz.decompose().draw(output=\"mpl\", style=\"clifford\", fold=20)"
      ]
    },
    {
      "cell_type": "code",
      "execution_count": null,
      "id": "08d1a89a",
      "metadata": {
        "id": "08d1a89a"
      },
      "outputs": [],
      "source": [
        "optimizer = COBYLA(maxiter=100)# to train the process"
      ]
    },
    {
      "cell_type": "code",
      "execution_count": null,
      "id": "317ac086",
      "metadata": {
        "id": "317ac086"
      },
      "outputs": [],
      "source": [
        "sampler = Sampler()"
      ]
    },
    {
      "cell_type": "code",
      "execution_count": null,
      "id": "6ed80845",
      "metadata": {
        "id": "6ed80845"
      },
      "outputs": [],
      "source": [
        "\n",
        "objective_func_vals = []\n",
        "plt.rcParams[\"figure.figsize\"] = (12, 6)\n",
        "\n",
        "\n",
        "def callback_graph(weights, obj_func_eval):\n",
        "    clear_output(wait=True)\n",
        "    objective_func_vals.append(obj_func_eval)\n",
        "    plt.title(\"Objective function value against iteration\")\n",
        "    plt.xlabel(\"Iteration\")\n",
        "    plt.ylabel(\"Objective function value\")\n",
        "    plt.plot(range(len(objective_func_vals)), objective_func_vals)\n",
        "    plt.show()"
      ]
    },
    {
      "cell_type": "code",
      "execution_count": null,
      "id": "32f539c7",
      "metadata": {
        "id": "32f539c7",
        "outputId": "767b80e1-8d63-4502-d6ac-a74ce4c8a163"
      },
      "outputs": [
        {
          "data": {
            "image/png": "[encoded data removed]",
            "text/plain": [
              "<Figure size 1200x600 with 1 Axes>"
            ]
          },
          "metadata": {},
          "output_type": "display_data"
        },
        {
          "name": "stdout",
          "output_type": "stream",
          "text": [
            "Training time: 63 seconds\n"
          ]
        }
      ],
      "source": [
        "vqc = VQC(\n",
        "    sampler=sampler,\n",
        "    feature_map=feature_map,\n",
        "    ansatz=ansatz,\n",
        "    optimizer=optimizer,\n",
        "    callback=callback_graph,\n",
        ")\n",
        "\n",
        "# clear objective value history\n",
        "objective_func_vals = []\n",
        "\n",
        "start = time.time()\n",
        "vqc.fit(train_features,train_labels)\n",
        "elapsed = time.time() - start\n",
        "\n",
        "print(f\"Training time: {round(elapsed)} seconds\")"
      ]
    },
    {
      "cell_type": "code",
      "execution_count": null,
      "id": "44584730",
      "metadata": {
        "id": "44584730",
        "outputId": "f878c29a-6806-4e11-b082-167df7278a38"
      },
      "outputs": [
        {
          "name": "stdout",
          "output_type": "stream",
          "text": [
            "Quantum VQC on the training dataset: 0.87\n",
            "Quantum VQC on the test dataset:     0.85\n"
          ]
        }
      ],
      "source": [
        "train_score_q4 = vqc.score(train_features, train_labels)\n",
        "test_score_q4 = vqc.score(test_features, test_labels)\n",
        "\n",
        "print(f\"Quantum VQC on the training dataset: {train_score_q4:.2f}\")\n",
        "print(f\"Quantum VQC on the test dataset:     {test_score_q4:.2f}\")"
      ]
    },
    {
      "cell_type": "code",
      "execution_count": null,
      "id": "b6b1c8d0",
      "metadata": {
        "id": "b6b1c8d0",
        "outputId": "4f8fc731-3234-49f1-f348-4b8b3001958a"
      },
      "outputs": [
        {
          "name": "stdout",
          "output_type": "stream",
          "text": [
            "Classification report: \n",
            "               precision    recall  f1-score   support\n",
            "\n",
            "         0.0       0.90      1.00      0.95        54\n",
            "         1.0       0.00      0.00      0.00         6\n",
            "\n",
            "    accuracy                           0.90        60\n",
            "   macro avg       0.45      0.50      0.47        60\n",
            "weighted avg       0.81      0.90      0.85        60\n",
            "\n",
            "Confusion matrix: \n",
            " [[54  0]\n",
            " [ 6  0]]\n"
          ]
        },
        {
          "name": "stderr",
          "output_type": "stream",
          "text": [
            "C:\\Users\\NAINA\\anaconda3\\Lib\\site-packages\\sklearn\\metrics\\_classification.py:1531: UndefinedMetricWarning: Precision is ill-defined and being set to 0.0 in labels with no predicted samples. Use `zero_division` parameter to control this behavior.\n",
            "  _warn_prf(average, modifier, f\"{metric.capitalize()} is\", len(result))\n",
            "C:\\Users\\NAINA\\anaconda3\\Lib\\site-packages\\sklearn\\metrics\\_classification.py:1531: UndefinedMetricWarning: Precision is ill-defined and being set to 0.0 in labels with no predicted samples. Use `zero_division` parameter to control this behavior.\n",
            "  _warn_prf(average, modifier, f\"{metric.capitalize()} is\", len(result))\n",
            "C:\\Users\\NAINA\\anaconda3\\Lib\\site-packages\\sklearn\\metrics\\_classification.py:1531: UndefinedMetricWarning: Precision is ill-defined and being set to 0.0 in labels with no predicted samples. Use `zero_division` parameter to control this behavior.\n",
            "  _warn_prf(average, modifier, f\"{metric.capitalize()} is\", len(result))\n"
          ]
        }
      ],
      "source": [
        "# classification report of VQC\n",
        "expected_y  = y_test\n",
        "predicted_y = vqc.predict(X_test)\n",
        "\n",
        "# print classification report and confusion matrix for the classifier\n",
        "print(\"Classification report: \\n\", metrics.classification_report(expected_y, predicted_y))\n",
        "print(\"Confusion matrix: \\n\", metrics.confusion_matrix(expected_y, predicted_y))\n",
        "acu=accuracy_score(expected_y, predicted_y)\n",
        "m_n.append(acu)\n",
        "\n",
        "acc.append('VQC')"
      ]
    },
    {
      "cell_type": "code",
      "execution_count": null,
      "id": "bbf8de76",
      "metadata": {
        "id": "bbf8de76",
        "outputId": "6a72787e-171c-4dd6-bdb0-2e9cc6a687fc"
      },
      "outputs": [
        {
          "data": {
            "image/png": "[encoded data removed]",
            "text/plain": [
              "<Figure size 1290.83x284.278 with 1 Axes>"
            ]
          },
          "execution_count": 5,
          "metadata": {},
          "output_type": "execute_result"
        }
      ],
      "source": [
        "from qiskit.circuit.library import EfficientSU2\n",
        "feature_map = ZZFeatureMap(feature_dimension=3, reps=1)\n",
        "ansatz = EfficientSU2(num_qubits=3, reps=3)\n",
        "feature_map.decompose().draw(output=\"mpl\", style=\"clifford\", fold=20)\n",
        "ansatz.decompose().draw(output=\"mpl\", style=\"clifford\", fold=20)"
      ]
    },
    {
      "cell_type": "markdown",
      "id": "33bb6b6c",
      "metadata": {
        "id": "33bb6b6c"
      },
      "source": [
        "The hardware efficient SU(2) 2-local circuit.The EfficientSU2 circuit consists of layers of single qubit operations spanned by SU(2) and CX entanglements. This is a heuristic pattern that can be used to prepare trial wave functions.\n",
        "SU(2) stands for special unitary group of degree 2, its elements are 2× unitary matrices with determinant 1, such as the Pauli rotation gates.\n",
        "\n",
        "On 3 qubits and using the Pauli Y and Z su2_gates as single qubit gates"
      ]
    },
    {
      "cell_type": "code",
      "execution_count": null,
      "id": "7890c8c6",
      "metadata": {
        "id": "7890c8c6",
        "outputId": "90e119ba-404a-4afe-b18c-d44ac0c829b3"
      },
      "outputs": [
        {
          "data": {
            "image/png": "[encoded data removed]",
            "text/plain": [
              "<Figure size 1200x600 with 1 Axes>"
            ]
          },
          "metadata": {},
          "output_type": "display_data"
        },
        {
          "name": "stdout",
          "output_type": "stream",
          "text": [
            "Training time: 31 seconds\n"
          ]
        }
      ],
      "source": [
        "from qiskit.circuit.library import EfficientSU2\n",
        "\n",
        "ansatz = EfficientSU2(num_qubits=num_features, reps=3)\n",
        "optimizer = COBYLA(maxiter=40)\n",
        "\n",
        "vqc = VQC(\n",
        "    sampler=sampler,\n",
        "    feature_map=feature_map,\n",
        "    ansatz=ansatz,\n",
        "    optimizer=optimizer,\n",
        "    callback=callback_graph,\n",
        ")\n",
        "\n",
        "# clear objective value history\n",
        "objective_func_vals = []\n",
        "\n",
        "start = time.time()\n",
        "vqc.fit(train_features, train_labels)\n",
        "elapsed = time.time() - start\n",
        "\n",
        "print(f\"Training time: {round(elapsed)} seconds\")"
      ]
    },
    {
      "cell_type": "code",
      "execution_count": null,
      "id": "eb3c3a72",
      "metadata": {
        "id": "eb3c3a72",
        "outputId": "0ab9ab3c-b9de-4129-feb0-a6bfcd33d6f8"
      },
      "outputs": [
        {
          "name": "stdout",
          "output_type": "stream",
          "text": [
            "Quantum VQC on the training dataset using EfficientSU2: 0.87\n",
            "Quantum VQC on the test dataset using EfficientSU2:     0.85\n"
          ]
        }
      ],
      "source": [
        "train_score_q2_eff = vqc.score(train_features, train_labels)\n",
        "test_score_q2_eff = vqc.score(test_features, test_labels)\n",
        "\n",
        "print(f\"Quantum VQC on the training dataset using EfficientSU2: {train_score_q2_eff:.2f}\")\n",
        "print(f\"Quantum VQC on the test dataset using EfficientSU2:     {test_score_q2_eff:.2f}\")"
      ]
    },
    {
      "cell_type": "code",
      "execution_count": null,
      "id": "68e0146a",
      "metadata": {
        "id": "68e0146a",
        "outputId": "69e3f62b-182e-4afb-b15b-ee48661997a2"
      },
      "outputs": [
        {
          "name": "stdout",
          "output_type": "stream",
          "text": [
            "Model                           | Test Score | Train Score\n",
            "VQC, 3 features, RealAmplitudes |       0.87 |       0.85\n",
            "----------------------------------------------------------\n",
            "VQC, 3 features, EfficientSU2   |       0.87 |       0.85\n"
          ]
        }
      ],
      "source": [
        "print(f\"Model                           | Test Score | Train Score\")\n",
        "print(f\"VQC, 3 features, RealAmplitudes | {train_score_q4:10.2f} | {test_score_q4:10.2f}\")\n",
        "print(f\"----------------------------------------------------------\")\n",
        "\n",
        "print(f\"VQC, 3 features, EfficientSU2   | {train_score_q2_eff:10.2f} | {test_score_q2_eff:10.2f}\")"
      ]
    },
    {
      "cell_type": "code",
      "execution_count": null,
      "id": "3918ab99",
      "metadata": {
        "id": "3918ab99",
        "outputId": "aea3a927-0c70-426f-b860-6cd5373411bf"
      },
      "outputs": [
        {
          "name": "stdout",
          "output_type": "stream",
          "text": [
            "Classification report: \n",
            "               precision    recall  f1-score   support\n",
            "\n",
            "         0.0       0.90      1.00      0.95        54\n",
            "         1.0       0.00      0.00      0.00         6\n",
            "\n",
            "    accuracy                           0.90        60\n",
            "   macro avg       0.45      0.50      0.47        60\n",
            "weighted avg       0.81      0.90      0.85        60\n",
            "\n",
            "Confusion matrix: \n",
            " [[54  0]\n",
            " [ 6  0]]\n"
          ]
        },
        {
          "name": "stderr",
          "output_type": "stream",
          "text": [
            "C:\\Users\\NAINA\\anaconda3\\Lib\\site-packages\\sklearn\\metrics\\_classification.py:1531: UndefinedMetricWarning: Precision is ill-defined and being set to 0.0 in labels with no predicted samples. Use `zero_division` parameter to control this behavior.\n",
            "  _warn_prf(average, modifier, f\"{metric.capitalize()} is\", len(result))\n",
            "C:\\Users\\NAINA\\anaconda3\\Lib\\site-packages\\sklearn\\metrics\\_classification.py:1531: UndefinedMetricWarning: Precision is ill-defined and being set to 0.0 in labels with no predicted samples. Use `zero_division` parameter to control this behavior.\n",
            "  _warn_prf(average, modifier, f\"{metric.capitalize()} is\", len(result))\n",
            "C:\\Users\\NAINA\\anaconda3\\Lib\\site-packages\\sklearn\\metrics\\_classification.py:1531: UndefinedMetricWarning: Precision is ill-defined and being set to 0.0 in labels with no predicted samples. Use `zero_division` parameter to control this behavior.\n",
            "  _warn_prf(average, modifier, f\"{metric.capitalize()} is\", len(result))\n"
          ]
        }
      ],
      "source": [
        "# classification report of VQC\n",
        "expected_y  = y_test\n",
        "predicted_y = vqc.predict(X_test)\n",
        "\n",
        "# print classification report and confusion matrix for the classifier\n",
        "print(\"Classification report: \\n\", metrics.classification_report(expected_y, predicted_y))\n",
        "print(\"Confusion matrix: \\n\", metrics.confusion_matrix(expected_y, predicted_y))\n",
        "acu=accuracy_score(expected_y, predicted_y)\n",
        "m_n.append(acu)\n",
        "\n",
        "acc.append('VQC-ESU2')"
      ]
    },
    {
      "cell_type": "markdown",
      "id": "cfd5e6eb",
      "metadata": {
        "id": "cfd5e6eb"
      },
      "source": [
        "# QPCA"
      ]
    },
    {
      "cell_type": "code",
      "execution_count": null,
      "id": "d2aae029",
      "metadata": {
        "id": "d2aae029"
      },
      "outputs": [],
      "source": [
        "adhoc_dimension=3\n",
        "adhoc_feature_map = ZZFeatureMap(feature_dimension=adhoc_dimension, reps = 2, entanglement = \"linear\")\n",
        "\n",
        "sampler = Sampler() # This allows you to use different backends (real quantum devices or simulators) as samplers.\n",
        "\n",
        "fidelity = ComputeUncompute(sampler = sampler)\n",
        "\n",
        "adhoc_kernel = FidelityQuantumKernel(fidelity = fidelity, feature_map = adhoc_feature_map)"
      ]
    },
    {
      "cell_type": "code",
      "execution_count": null,
      "id": "7354ddb5",
      "metadata": {
        "id": "7354ddb5"
      },
      "outputs": [],
      "source": [
        "feature_map = ZZFeatureMap(feature_dimension = 2, reps = 2, entanglement = \"linear\")\n",
        "qpca_kernel = FidelityQuantumKernel(fidelity = fidelity, feature_map = feature_map)"
      ]
    },
    {
      "cell_type": "code",
      "execution_count": null,
      "id": "093981c1",
      "metadata": {
        "id": "093981c1",
        "outputId": "9d4d60ba-90c1-405a-f472-9bf2a2c819a1"
      },
      "outputs": [
        {
          "data": {
            "image/png": "[encoded data removed]",
            "text/plain": [
              "<Figure size 1290.63x200.667 with 1 Axes>"
            ]
          },
          "execution_count": 175,
          "metadata": {},
          "output_type": "execute_result"
        }
      ],
      "source": [
        "feature_map.decompose().draw('mpl')"
      ]
    },
    {
      "cell_type": "code",
      "execution_count": null,
      "id": "7186b042",
      "metadata": {
        "id": "7186b042"
      },
      "outputs": [],
      "source": [
        "data=data.iloc[0:200]\n",
        "X = data[['HighBP','HighChol','Smoker']]\n",
        "y = data['HeartDiseaseorAttack']"
      ]
    },
    {
      "cell_type": "code",
      "execution_count": null,
      "id": "ab462f6b",
      "metadata": {
        "id": "ab462f6b"
      },
      "outputs": [],
      "source": [
        "train_features, test_features, train_labels, test_labels = train_test_split(\n",
        "    X, y.to_numpy().reshape(-1,1), train_size=0.8, random_state=algorithm_globals.random_seed\n",
        ")"
      ]
    },
    {
      "cell_type": "code",
      "execution_count": null,
      "id": "77f0da16",
      "metadata": {
        "id": "77f0da16"
      },
      "outputs": [],
      "source": [
        "matrix_train = qpca_kernel.evaluate(x_vec = train_features)\n",
        "matrix_test = qpca_kernel.evaluate(x_vec = test_features, y_vec = train_features)"
      ]
    },
    {
      "cell_type": "code",
      "execution_count": null,
      "id": "90abc54f",
      "metadata": {
        "id": "90abc54f"
      },
      "outputs": [],
      "source": [
        "from sklearn.decomposition import KernelPCA\n",
        "#qunatam data classical model\n",
        "kernel_pca_q = KernelPCA(n_components = 2, kernel = \"precomputed\")\n",
        "train_features_q = kernel_pca_q.fit_transform(matrix_train)#quantam data\n",
        "test_features_q = kernel_pca_q.transform(matrix_test)#quantam data"
      ]
    },
    {
      "cell_type": "code",
      "execution_count": null,
      "id": "0c393a72",
      "metadata": {
        "id": "0c393a72",
        "outputId": "e4a3ed93-62f8-4507-e59d-1b179095a45d"
      },
      "outputs": [
        {
          "name": "stdout",
          "output_type": "stream",
          "text": [
            "(160, 2)\n"
          ]
        }
      ],
      "source": [
        "print(train_features_q.shape)"
      ]
    },
    {
      "cell_type": "code",
      "execution_count": null,
      "id": "64940c0b",
      "metadata": {
        "id": "64940c0b"
      },
      "outputs": [],
      "source": [
        "from sklearn.linear_model import LogisticRegression\n",
        "\n",
        "logistic_regression = LogisticRegression()\n",
        "logistic_regression.fit(train_features_q, train_labels.ravel())\n",
        "\n",
        "logistic_score = logistic_regression.score(test_features_q, test_labels)"
      ]
    },
    {
      "cell_type": "code",
      "execution_count": null,
      "id": "1cb06627",
      "metadata": {
        "id": "1cb06627",
        "outputId": "c87fb483-6727-4c84-b904-1a7c90c19f4d"
      },
      "outputs": [
        {
          "name": "stdout",
          "output_type": "stream",
          "text": [
            "0.85\n"
          ]
        }
      ],
      "source": [
        "print(logistic_score)\n",
        "\n",
        "m_n.append(logistic_score)\n",
        "\n",
        "acc.append('QPCA')"
      ]
    },
    {
      "cell_type": "code",
      "execution_count": null,
      "id": "36ed0eb5",
      "metadata": {
        "id": "36ed0eb5"
      },
      "outputs": [],
      "source": [
        "#classical data classical model\n",
        "kernel_pca_rbf = KernelPCA(n_components = 2,kernel = \"rbf\")\n",
        "kernel_pca_rbf.fit(train_features)\n",
        "train_features_rbf = kernel_pca_rbf.transform(train_features)\n",
        "test_features_rbf = kernel_pca_rbf.transform(test_features)"
      ]
    },
    {
      "cell_type": "code",
      "execution_count": null,
      "id": "6005f3ca",
      "metadata": {
        "id": "6005f3ca",
        "outputId": "40224421-90b2-4ff6-946a-d5b1264571d7"
      },
      "outputs": [
        {
          "name": "stdout",
          "output_type": "stream",
          "text": [
            "Logistic regression score classical: 0.85\n"
          ]
        }
      ],
      "source": [
        "logistic_regression = LogisticRegression()\n",
        "logistic_regression.fit(train_features_rbf, train_labels.ravel())\n",
        "\n",
        "logistic_score = logistic_regression.score(test_features_rbf, test_labels)\n",
        "print(f\"Logistic regression score classical: {logistic_score}\")"
      ]
    },
    {
      "cell_type": "code",
      "execution_count": null,
      "id": "7c4e4171",
      "metadata": {
        "id": "7c4e4171",
        "outputId": "73a64323-97f6-4984-962f-766bc11ca664"
      },
      "outputs": [
        {
          "name": "stdout",
          "output_type": "stream",
          "text": [
            "   Model Name      Accuracy\n",
            "0        0.90  Bagging-QSVC\n",
            "1        0.90          QSVC\n",
            "2        0.90           VQC\n",
            "3        0.90      VQC-ESU2\n",
            "4        0.85          QPCA\n",
            "5        0.84           QNN\n",
            "6        0.70    QNN-COBYLA\n"
          ]
        }
      ],
      "source": [
        "df2=pd.DataFrame()\n",
        "df2['Model Name']=m_n\n",
        "df2['Accuracy']=acc\n",
        "print(df2)\n"
      ]
    },
    {
      "cell_type": "code",
      "execution_count": null,
      "id": "b0cc110a",
      "metadata": {
        "id": "b0cc110a",
        "outputId": "553103ce-5223-47ba-e7ec-ce9caf8c2ce2"
      },
      "outputs": [
        {
          "data": {
            "image/png": "[encoded data removed]",
            "text/plain": [
              "<Figure size 1200x600 with 1 Axes>"
            ]
          },
          "metadata": {},
          "output_type": "display_data"
        }
      ],
      "source": [
        "sns.set(style='whitegrid')\n",
        "ax=sns.barplot(y=m_n,x=acc,data=df2)"
      ]
    },
    {
      "cell_type": "markdown",
      "id": "69a5ba9f",
      "metadata": {
        "id": "69a5ba9f"
      },
      "source": [
        "# Inferences"
      ]
    },
    {
      "cell_type": "markdown",
      "id": "8a335edb",
      "metadata": {
        "id": "8a335edb"
      },
      "source": [
        "Quantam models like QSVC,Bagging-QSVC outperforms the classical model when an sample of (200,3) is taken from the cleveland data set .As all the classical model had accuracy till 85% except MLP  which has the same accuracy as QSVC.(90 % accuracy)"
      ]
    },
    {
      "cell_type": "code",
      "execution_count": null,
      "id": "50d567f8",
      "metadata": {
        "id": "50d567f8"
      },
      "outputs": [],
      "source": [
        "m_n=['QNN','QSVC','BAGGING-QSVC','MLP']"
      ]
    },
    {
      "cell_type": "code",
      "execution_count": null,
      "id": "9085e684",
      "metadata": {
        "id": "9085e684"
      },
      "outputs": [],
      "source": [
        "prec=[.84,.90,.90,.90]"
      ]
    },
    {
      "cell_type": "code",
      "execution_count": null,
      "id": "117ff530",
      "metadata": {
        "id": "117ff530",
        "outputId": "9927dfba-d64a-41f7-df4c-d7208266c609"
      },
      "outputs": [
        {
          "name": "stdout",
          "output_type": "stream",
          "text": [
            "     Model Name  Precision\n",
            "0           QNN       0.84\n",
            "1          QSVC       0.90\n",
            "2  BAGGING-QSVC       0.90\n",
            "3           MLP       0.90\n"
          ]
        }
      ],
      "source": [
        "df3=pd.DataFrame()\n",
        "df3['Model Name']=m_n\n",
        "df3['Precision']=prec\n",
        "print(df3)"
      ]
    },
    {
      "cell_type": "code",
      "execution_count": null,
      "id": "a59ac0a0",
      "metadata": {
        "id": "a59ac0a0",
        "outputId": "517674ec-b3d2-4100-81a4-f6aec2e2e845"
      },
      "outputs": [
        {
          "data": {
            "image/png": "[encoded data removed]",
            "text/plain": [
              "<Figure size 640x480 with 1 Axes>"
            ]
          },
          "metadata": {},
          "output_type": "display_data"
        }
      ],
      "source": [
        "sns.set(style='whitegrid')\n",
        "ax=sns.barplot(y=m_n,x=prec,data=df3)"
      ]
    },
    {
      "cell_type": "code",
      "execution_count": null,
      "id": "a085aa17",
      "metadata": {
        "id": "a085aa17"
      },
      "outputs": [],
      "source": []
    }
  ],
  "metadata": {
    "kernelspec": {
      "display_name": "Python 3 (ipykernel)",
      "language": "python",
      "name": "python3"
    },
    "language_info": {
      "codemirror_mode": {
        "name": "ipython",
        "version": 3
      },
      "file_extension": ".py",
      "mimetype": "text/x-python",
      "name": "python",
      "nbconvert_exporter": "python",
      "pygments_lexer": "ipython3",
      "version": "3.11.5"
    },
    "colab": {
      "provenance": []
    }
  },
  "nbformat": 4,
  "nbformat_minor": 5
}